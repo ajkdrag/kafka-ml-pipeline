{
 "cells": [
  {
   "cell_type": "code",
   "execution_count": 1,
   "id": "1349f413-6955-43c7-a18e-a5e33dfb12cd",
   "metadata": {},
   "outputs": [],
   "source": [
    "import sys"
   ]
  },
  {
   "cell_type": "code",
   "execution_count": 2,
   "id": "080f4c70-5bfc-417f-96b5-b43faa8421e5",
   "metadata": {},
   "outputs": [],
   "source": [
    "!{sys.executable} -m pip install -qU python-dotenv"
   ]
  },
  {
   "cell_type": "code",
   "execution_count": 3,
   "id": "50b51ca7-d212-4889-8078-97908e684103",
   "metadata": {},
   "outputs": [],
   "source": [
    "from pathlib import Path"
   ]
  },
  {
   "cell_type": "code",
   "execution_count": 17,
   "id": "65cd50a6-eb29-47b8-b674-6568b253e65e",
   "metadata": {},
   "outputs": [],
   "source": [
    "(Path.cwd() / \"../.env\").touch()"
   ]
  },
  {
   "cell_type": "code",
   "execution_count": 18,
   "id": "46ade797-a4e3-4e14-a011-d78139147969",
   "metadata": {},
   "outputs": [],
   "source": [
    "import os\n",
    "from dotenv import find_dotenv\n",
    "\n",
    "package_root = \"src\"\n",
    "sys.path.append(os.path.join(os.path.dirname(find_dotenv()), package_root))"
   ]
  },
  {
   "cell_type": "code",
   "execution_count": 19,
   "id": "e3271a3a-c5f7-434b-aeac-a6f03a392686",
   "metadata": {},
   "outputs": [
    {
     "data": {
      "text/plain": [
       "['/home/ajkdrag/work',\n",
       " '/usr/local/spark/python/lib/py4j-0.10.9-src.zip',\n",
       " '/usr/local/spark/python',\n",
       " '/home/ajkdrag/work',\n",
       " '/opt/conda/envs/python37/lib/python37.zip',\n",
       " '/opt/conda/envs/python37/lib/python3.7',\n",
       " '/opt/conda/envs/python37/lib/python3.7/lib-dynload',\n",
       " '',\n",
       " '/opt/conda/envs/python37/lib/python3.7/site-packages',\n",
       " '/opt/conda/envs/python37/lib/python3.7/site-packages/IPython/extensions',\n",
       " '/home/ajkdrag/.ipython',\n",
       " '/home/ajkdrag/work/src',\n",
       " '/home/ajkdrag/src']"
      ]
     },
     "execution_count": 19,
     "metadata": {},
     "output_type": "execute_result"
    }
   ],
   "source": [
    "sys.path"
   ]
  },
  {
   "cell_type": "code",
   "execution_count": 20,
   "id": "c8bf8090-c6d8-4814-9d1c-1f158f0b2e9f",
   "metadata": {},
   "outputs": [
    {
     "name": "stdout",
     "output_type": "stream",
     "text": [
      "The autoreload extension is already loaded. To reload it, use:\n",
      "  %reload_ext autoreload\n"
     ]
    }
   ],
   "source": [
    "%load_ext autoreload\n",
    "%autoreload 2"
   ]
  },
  {
   "cell_type": "markdown",
   "id": "553de4f7-0f8e-41f4-b328-7aedaa4893dd",
   "metadata": {},
   "source": [
    "## Spark setup"
   ]
  },
  {
   "cell_type": "code",
   "execution_count": 21,
   "id": "53a53d74-1a77-4079-a257-7136b4e1f364",
   "metadata": {
    "tags": []
   },
   "outputs": [],
   "source": [
    "from pyspark.sql import SparkSession\n",
    "import pyspark.sql.types as T\n",
    "import pyspark.sql.functions as F"
   ]
  },
  {
   "cell_type": "code",
   "execution_count": 22,
   "id": "c00108ab-6572-4266-ae03-053026d81c4d",
   "metadata": {
    "tags": []
   },
   "outputs": [],
   "source": [
    "jars = [\n",
    "    \"/usr/local/spark/jars/hadoop-aws-3.2.0.jar\",\n",
    "    \"/usr/local/spark/jars/aws-java-sdk-bundle-1.11.375.jar\",\n",
    "    \"/usr/local/spark/jars/spark-cassandra-connector-assembly_2.12-3.0.0.jar\",\n",
    "    \"/usr/local/spark/jars/spark-sql-kafka-0-10_2.12-3.0.0.jar\",\n",
    "    \"/usr/local/spark/jars/kafka-clients-2.4.1.jar\",\n",
    "    \"/usr/local/spark/jars/commons-pool2-2.6.2.jar\",\n",
    "    \"/usr/local/spark/jars/spark-token-provider-kafka-0-10_2.12-3.0.0.jar\"\n",
    "]"
   ]
  },
  {
   "cell_type": "code",
   "execution_count": 23,
   "id": "e497edf4-5be2-481f-87e0-feaea71c9852",
   "metadata": {},
   "outputs": [],
   "source": [
    "hosts = {\"spark.cassandra.connection.host\": 'cassandra'}"
   ]
  },
  {
   "cell_type": "code",
   "execution_count": 24,
   "id": "2f6c3442-a88d-44f8-b64a-412f0a4d5d00",
   "metadata": {
    "tags": []
   },
   "outputs": [],
   "source": [
    "spark = SparkSession.\\\n",
    "        builder.\\\n",
    "        appName(\"pyspark-notebook\").\\\n",
    "        master(\"spark://spark-master:7077\").\\\n",
    "        config(\"spark.executor.memory\", \"480m\").\\\n",
    "        config(\"spark.jars\", \",\".join(jars)).\\\n",
    "        getOrCreate()"
   ]
  },
  {
   "cell_type": "code",
   "execution_count": 25,
   "id": "35decbbb-1069-48ae-84ad-6af6c6ff7897",
   "metadata": {
    "tags": []
   },
   "outputs": [
    {
     "data": {
      "text/html": [
       "\n",
       "            <div>\n",
       "                <p><b>SparkSession - in-memory</b></p>\n",
       "                \n",
       "        <div>\n",
       "            <p><b>SparkContext</b></p>\n",
       "\n",
       "            <p><a href=\"http://1f346313f30c:4040\">Spark UI</a></p>\n",
       "\n",
       "            <dl>\n",
       "              <dt>Version</dt>\n",
       "                <dd><code>v3.0.2</code></dd>\n",
       "              <dt>Master</dt>\n",
       "                <dd><code>spark://spark-master:7077</code></dd>\n",
       "              <dt>AppName</dt>\n",
       "                <dd><code>pyspark-notebook</code></dd>\n",
       "            </dl>\n",
       "        </div>\n",
       "        \n",
       "            </div>\n",
       "        "
      ],
      "text/plain": [
       "<pyspark.sql.session.SparkSession at 0x7f8621377c10>"
      ]
     },
     "execution_count": 25,
     "metadata": {},
     "output_type": "execute_result"
    }
   ],
   "source": [
    "spark"
   ]
  },
  {
   "cell_type": "code",
   "execution_count": 26,
   "id": "43ce6244-2f11-44cf-9357-2a2e7174ea1f",
   "metadata": {
    "tags": []
   },
   "outputs": [],
   "source": [
    "sc = spark.sparkContext"
   ]
  },
  {
   "cell_type": "code",
   "execution_count": 27,
   "id": "ffcf085c-fc28-42bf-b451-a476ac5c1bb6",
   "metadata": {
    "tags": []
   },
   "outputs": [],
   "source": [
    "sc._jsc.hadoopConfiguration().set(\"fs.s3a.endpoint\", \"http://minio:9000\")\n",
    "sc._jsc.hadoopConfiguration().set(\"fs.s3a.access.key\", os.environ[\"AWS_ACCESS_KEY_ID\"])\n",
    "sc._jsc.hadoopConfiguration().set(\"fs.s3a.secret.key\", os.environ[\"AWS_SECRET_ACCESS_KEY\"])\n",
    "sc._jsc.hadoopConfiguration().set(\"fs.s3a.path.style.access\", \"true\")\n",
    "sc._jsc.hadoopConfiguration().set(\"spark.hadoop.fs.s3a.impl\", \"org.apache.hadoop.fs.s3a.S3AFileSystem\")\n",
    "sc._jsc.hadoopConfiguration().set(\"spark.hadoop.fs.s3a.connection.ssl.enabled\", \"false\")"
   ]
  },
  {
   "cell_type": "markdown",
   "id": "ff148e39-65a1-43a2-a3d8-b10f2eb6cbd8",
   "metadata": {
    "jp-MarkdownHeadingCollapsed": true
   },
   "source": [
    "## Testing spark"
   ]
  },
  {
   "cell_type": "code",
   "execution_count": 28,
   "id": "1f0291db-78b2-47ed-bc75-1c83ced14e2b",
   "metadata": {
    "tags": []
   },
   "outputs": [],
   "source": [
    "vals = sc.parallelize([1,2,3])"
   ]
  },
  {
   "cell_type": "code",
   "execution_count": 29,
   "id": "9a645614-7432-4ccc-8831-eb316f24d138",
   "metadata": {
    "tags": []
   },
   "outputs": [
    {
     "data": {
      "text/plain": [
       "6"
      ]
     },
     "execution_count": 29,
     "metadata": {},
     "output_type": "execute_result"
    }
   ],
   "source": [
    "vals.sum()"
   ]
  },
  {
   "cell_type": "code",
   "execution_count": 36,
   "id": "caf6f05a-0009-4532-90af-061fe5ed0346",
   "metadata": {},
   "outputs": [],
   "source": [
    "# Config = {}\n",
    "# spark_opts_cust_table = {\n",
    "#     \"keyspace\": Config.keyspace,\n",
    "#     \"table\": Config.table_customer\n",
    "# }\n",
    "# df = spark.read.format(Config.cassandra_format) \\\n",
    "#             .options(**spark_opts_cust_table, **hosts) \\\n",
    "#             .load()\n",
    "# df.show(n=5)"
   ]
  },
  {
   "cell_type": "markdown",
   "id": "1cba4779-63ab-48e3-8681-9ea3003851e1",
   "metadata": {},
   "source": [
    "# Package setup"
   ]
  },
  {
   "cell_type": "code",
   "execution_count": 103,
   "id": "929695c9-3f33-4584-8b52-a3e6a7b1c2ed",
   "metadata": {},
   "outputs": [],
   "source": [
    "import importlib\n",
    "from main import parse_config, init_or_get_spark"
   ]
  },
  {
   "cell_type": "code",
   "execution_count": 146,
   "id": "ced8ef91-6b58-4b0b-b769-d4a2928a979d",
   "metadata": {},
   "outputs": [],
   "source": [
    "config_file = \"../src/configs/base_config.json\""
   ]
  },
  {
   "cell_type": "code",
   "execution_count": 147,
   "id": "a7585653-7f58-47e4-9998-1a8bf94a1461",
   "metadata": {},
   "outputs": [],
   "source": [
    "config = parse_config(config_file)"
   ]
  },
  {
   "cell_type": "code",
   "execution_count": 148,
   "id": "513487a5-514b-44ca-a62e-01f7e04ddac1",
   "metadata": {},
   "outputs": [
    {
     "data": {
      "text/plain": [
       "Config(spark=SparkConfig(app_name='fraud_detection', master='spark://spark-master:7077', jars='/usr/local/spark/jars/hadoop-aws-3.2.0.jar,/usr/local/spark/jars/aws-java-sdk-bundle-1.11.375.jar,/usr/local/spark/jars/spark-cassandra-connector-assembly_2.12-3.0.0.jar', exec_mem='480m', cassandra_format='org.apache.spark.sql.cassandra', cassandra_host='cassandra'), cassandra=CassandraConfig(keyspace='creditcard', table_customer='customer', table_fraud='fraud_transaction', table_non_fraud='non_fraud_transaction'), kafka=KafkaConfig(bootstrap_server='broker:29092', starting_offset='earliest', topic='realtime-ml_v4'), s3=S3Config(path_transactions='s3a://realtime-ml/data/raw/transactions.csv', path_customer='s3a://realtime-ml/data/raw/customer.csv', path_ml_artifacts='s3a://realtime-ml/ml_artifacts/'), ml=MLConfig(feature_cols=['cc_num', 'category', 'merchant', 'distance', 'amt', 'age'], train_pct=0.7, seed=123, feature_col_name='features', label_col_name='label', kmeans_extra_args={'maxIter': 30, 'seed': 123}, model_extra_args={'maxBins': 700, 'seed': 123}), run_id='9d024f2b89d44f768f3d33872e2656ef')"
      ]
     },
     "execution_count": 148,
     "metadata": {},
     "output_type": "execute_result"
    }
   ],
   "source": [
    "config"
   ]
  },
  {
   "cell_type": "code",
   "execution_count": 149,
   "id": "a0812002-a19b-45b7-9d41-d552791ecd4f",
   "metadata": {},
   "outputs": [
    {
     "data": {
      "text/plain": [
       "'9d024f2b89d44f768f3d33872e2656ef'"
      ]
     },
     "execution_count": 149,
     "metadata": {},
     "output_type": "execute_result"
    }
   ],
   "source": [
    "config.run_id"
   ]
  },
  {
   "cell_type": "code",
   "execution_count": 35,
   "id": "29403fdb-946a-4961-b57f-9a52a22b5cef",
   "metadata": {},
   "outputs": [
    {
     "data": {
      "text/html": [
       "\n",
       "            <div>\n",
       "                <p><b>SparkSession - in-memory</b></p>\n",
       "                \n",
       "        <div>\n",
       "            <p><b>SparkContext</b></p>\n",
       "\n",
       "            <p><a href=\"http://1f346313f30c:4040\">Spark UI</a></p>\n",
       "\n",
       "            <dl>\n",
       "              <dt>Version</dt>\n",
       "                <dd><code>v3.0.2</code></dd>\n",
       "              <dt>Master</dt>\n",
       "                <dd><code>spark://spark-master:7077</code></dd>\n",
       "              <dt>AppName</dt>\n",
       "                <dd><code>pyspark-notebook</code></dd>\n",
       "            </dl>\n",
       "        </div>\n",
       "        \n",
       "            </div>\n",
       "        "
      ],
      "text/plain": [
       "<pyspark.sql.session.SparkSession at 0x7f8621377c10>"
      ]
     },
     "execution_count": 35,
     "metadata": {},
     "output_type": "execute_result"
    }
   ],
   "source": [
    "spark"
   ]
  },
  {
   "cell_type": "markdown",
   "id": "bf571486-15fe-4172-8e34-abcac08c7300",
   "metadata": {},
   "source": [
    "# Job 1: Import to Cassandra"
   ]
  },
  {
   "cell_type": "markdown",
   "id": "cac58eee-9082-47f7-b9c7-05b6981b4bb0",
   "metadata": {
    "jp-MarkdownHeadingCollapsed": true
   },
   "source": [
    "## Loading customer df to Cassandra"
   ]
  },
  {
   "cell_type": "code",
   "execution_count": 16,
   "id": "5e3720c0-a4c8-4da8-97ab-f99ae2ec1090",
   "metadata": {
    "scrolled": true
   },
   "outputs": [],
   "source": [
    "from schemas.structs import customer_schema"
   ]
  },
  {
   "cell_type": "code",
   "execution_count": 17,
   "id": "afba4983-4ce7-497b-9154-a2c1294a0dd5",
   "metadata": {
    "tags": []
   },
   "outputs": [],
   "source": [
    "customer_df = spark.read.csv(Config.path_customer, schema=customer_schema, header=True)"
   ]
  },
  {
   "cell_type": "code",
   "execution_count": 18,
   "id": "53226b28-91c7-4b77-b463-b5f23fec9b6a",
   "metadata": {},
   "outputs": [
    {
     "name": "stdout",
     "output_type": "stream",
     "text": [
      "+----------------+-------+--------+------+--------------------+--------------+-----+-----+-------+---------+--------------------+-------------------+\n",
      "|          cc_num|  first|    last|gender|              street|          city|state|  zip|    lat|     long|                 job|                dob|\n",
      "+----------------+-------+--------+------+--------------------+--------------+-----+-----+-------+---------+--------------------+-------------------+\n",
      "|3526015186182660|   Carl|   Gomez|     M|204 Cohen Meadow ...|Hathaway Pines|   CA|95233|38.1919|-120.3644|Data processing m...|1958-10-11 18:30:00|\n",
      "|4170242670039985|Rebecca|Trujillo|     F|       242 Cody Pass|      Colstrip|   MT|59323|45.9344|-106.6368|          Air broker|1983-08-08 18:30:00|\n",
      "|   4006862159277| Cheryl|    Rice|     F|0771 Solis Road A...|      Brooklyn|   NY|11228|40.6174| -74.0121|     Tourism officer|1957-07-23 18:30:00|\n",
      "|3593533875650654|  Cindy|     Ray|     F|     09110 Marie Run|        Oswego|   IL|60543|41.6849| -88.3453|Magazine features...|1994-12-23 18:30:00|\n",
      "|5421885738881170| Jeremy|  Torres|     M|   81823 Karen Haven|  Lewis Center|   OH|43035|40.1879| -82.9878|Designer, industr...|1995-11-05 18:30:00|\n",
      "+----------------+-------+--------+------+--------------------+--------------+-----+-----+-------+---------+--------------------+-------------------+\n",
      "only showing top 5 rows\n",
      "\n"
     ]
    }
   ],
   "source": [
    "customer_df.show(n=5)"
   ]
  },
  {
   "cell_type": "code",
   "execution_count": 52,
   "id": "eae80f5d-67cf-440b-8662-a61f8be6683c",
   "metadata": {},
   "outputs": [],
   "source": [
    "spark_opts_cust_table = {\n",
    "    \"keyspace\": Config.keyspace,\n",
    "    \"table\": Config.table_customer,\n",
    "    \"confirm.truncate\": True\n",
    "}"
   ]
  },
  {
   "cell_type": "code",
   "execution_count": 48,
   "id": "c7cc5b3e-8462-40a2-b9cf-121e34d7053a",
   "metadata": {},
   "outputs": [],
   "source": [
    "(\n",
    "    customer_df.write\n",
    "        .format(Config.cassandra_format)\n",
    "        .mode(\"overwrite\")\n",
    "        .options(**spark_opts_cust_table, **hosts)\n",
    "        .save()\n",
    ")"
   ]
  },
  {
   "cell_type": "code",
   "execution_count": 49,
   "id": "7a417918-3ec8-47f9-8693-0668dba1c94f",
   "metadata": {},
   "outputs": [
    {
     "name": "stdout",
     "output_type": "stream",
     "text": [
      "+---------------+-----------+-------------------+-------+------+--------------------+-------+-------+---------+-----+--------------------+-----+\n",
      "|         cc_num|       city|                dob|  first|gender|                 job|   last|    lat|     long|state|              street|  zip|\n",
      "+---------------+-----------+-------------------+-------+------+--------------------+-------+-------+---------+-----+--------------------+-----+\n",
      "|180036251237802|  Salt Lick|1956-07-19 18:30:00|Melissa|     F|Psychologist, for...|  James| 38.104| -83.6316|   KY|     537 Bryant Mall|40371|\n",
      "|   676165681542|      Salem|1954-07-03 18:30:00|   John|     M|Human resources o...| Garcia|44.9039|-123.0445|   OR|34153 Maria Mountain|97302|\n",
      "| 38535403302699|     London|1970-04-16 18:30:00|William|     M|Insurance risk su...|   Reed|39.9001| -83.4439|   OH|334 Adam Lodge Su...|43140|\n",
      "| 30157941709315|  Caledonia|1974-11-03 18:30:00|Maurice|     M|Hydrographic surv...|  Simon|43.6221| -91.4837|   MN|031 Jessica Harbo...|55921|\n",
      "|180094108369013|Zephyr Cove|1949-12-28 18:30:00|   John|     M|Geophysical data ...|Holland|39.0204|-119.9114|   NV|630 Christina Harbor|89448|\n",
      "+---------------+-----------+-------------------+-------+------+--------------------+-------+-------+---------+-----+--------------------+-----+\n",
      "only showing top 5 rows\n",
      "\n"
     ]
    }
   ],
   "source": [
    "(\n",
    "    spark.read\n",
    "        .format(Config.cassandra_format)\n",
    "        .options(**spark_opts_cust_table, **hosts)\n",
    "        .load()\n",
    "        .show(n=5)\n",
    ")"
   ]
  },
  {
   "cell_type": "markdown",
   "id": "ae6534fb-fd29-40e6-be2e-8724fb7956ae",
   "metadata": {
    "jp-MarkdownHeadingCollapsed": true
   },
   "source": [
    "## Loading fraud/non-fraud df to cassandra"
   ]
  },
  {
   "cell_type": "code",
   "execution_count": 41,
   "id": "d58c0346-e419-40f5-8c9e-40e87f6b7508",
   "metadata": {},
   "outputs": [],
   "source": [
    "from schemas.structs import fraud_transaction_schema\n",
    "from utils.general import get_haversine_distance_udf"
   ]
  },
  {
   "cell_type": "code",
   "execution_count": 34,
   "id": "da475412-abef-48bc-a715-0fb6ded10656",
   "metadata": {},
   "outputs": [],
   "source": [
    "transaction_df = (\n",
    "                    spark.read\n",
    "                        .csv(Config.path_transactions, schema=fraud_transaction_schema, header=True)\n",
    "                        .withColumn(\"trans_date\", F.split(\"trans_date\", \"T\").getItem(0))\n",
    "                        .withColumn(\"trans_time\", F.to_timestamp(F.concat_ws(\" \", \"trans_date\", \"trans_time\")))\n",
    "                )"
   ]
  },
  {
   "cell_type": "code",
   "execution_count": 35,
   "id": "5ad1a612-c39d-4894-a2c4-6092eadd799e",
   "metadata": {},
   "outputs": [
    {
     "name": "stdout",
     "output_type": "stream",
     "text": [
      "+----------------+-------+-------+--------------------+----------+-------------------+----------+-------------+--------------------+-----+---------+-----------+--------+\n",
      "|          cc_num|  first|   last|           trans_num|trans_date|         trans_time| unix_time|     category|            merchant|  amt|merch_lat| merch_long|is_fraud|\n",
      "+----------------+-------+-------+--------------------+----------+-------------------+----------+-------------+--------------------+-----+---------+-----------+--------+\n",
      "| 180094108369013|   John|Holland|80f5177be11f0bcd7...|2012-01-01|2012-01-01 00:12:15|1325376735|personal_care|         Hills-Boyer| 64.0|39.011566|-119.937831|     0.0|\n",
      "|4368593032190508|  Carla|Fleming|7933d389bf8ef8a11...|2012-01-01|2012-01-01 00:16:58|1325377018|gas_transport|      Friesen-DAmore|133.0|40.149071| -75.589697|     0.0|\n",
      "|   4361355512072|Matthew| Nelson|1467c318b5d73d22d...|2012-01-01|2012-01-01 00:36:42|1325378202|entertainment|         Larson-Moen|119.0|47.297797| -96.819362|     0.0|\n",
      "|4037295225657274|Antonio| Garcia|4a3848719d72daaa3...|2012-01-01|2012-01-01 00:37:59|1325378279| shopping_pos|           Lynch Ltd| 62.0|40.078781|-102.373954|     0.0|\n",
      "|4515092388857440|Timothy|  Silva|02d27e94f279e1013...|2012-01-01|2012-01-01 00:39:18|1325378358| shopping_pos|Baumbach, Strosin...|198.0|41.549359| -83.044403|     0.0|\n",
      "+----------------+-------+-------+--------------------+----------+-------------------+----------+-------------+--------------------+-----+---------+-----------+--------+\n",
      "only showing top 5 rows\n",
      "\n"
     ]
    }
   ],
   "source": [
    "transaction_df.show(n=5)"
   ]
  },
  {
   "cell_type": "code",
   "execution_count": 36,
   "id": "889c142c-cbe8-495b-b319-ff42e4f7c36b",
   "metadata": {},
   "outputs": [
    {
     "name": "stdout",
     "output_type": "stream",
     "text": [
      "root\n",
      " |-- cc_num: string (nullable = true)\n",
      " |-- first: string (nullable = true)\n",
      " |-- last: string (nullable = true)\n",
      " |-- trans_num: string (nullable = true)\n",
      " |-- trans_date: string (nullable = true)\n",
      " |-- trans_time: timestamp (nullable = true)\n",
      " |-- unix_time: long (nullable = true)\n",
      " |-- category: string (nullable = true)\n",
      " |-- merchant: string (nullable = true)\n",
      " |-- amt: double (nullable = true)\n",
      " |-- merch_lat: double (nullable = true)\n",
      " |-- merch_long: double (nullable = true)\n",
      " |-- is_fraud: double (nullable = true)\n",
      "\n"
     ]
    }
   ],
   "source": [
    "transaction_df.printSchema()"
   ]
  },
  {
   "cell_type": "code",
   "execution_count": 37,
   "id": "cbf8e877-51c0-4e7d-853d-b8026fc893a5",
   "metadata": {},
   "outputs": [],
   "source": [
    "customer_age_df = customer_df.withColumn(\"age\", (F.datediff(F.current_date(), F.to_date(\"dob\")) / 365).cast(T.IntegerType()))"
   ]
  },
  {
   "cell_type": "code",
   "execution_count": 38,
   "id": "73d15ee9-f715-44c1-8881-985c84252955",
   "metadata": {},
   "outputs": [
    {
     "name": "stdout",
     "output_type": "stream",
     "text": [
      "+----------------+-------+--------+------+--------------------+--------------+-----+-----+-------+---------+--------------------+-------------------+---+\n",
      "|          cc_num|  first|    last|gender|              street|          city|state|  zip|    lat|     long|                 job|                dob|age|\n",
      "+----------------+-------+--------+------+--------------------+--------------+-----+-----+-------+---------+--------------------+-------------------+---+\n",
      "|3526015186182660|   Carl|   Gomez|     M|204 Cohen Meadow ...|Hathaway Pines|   CA|95233|38.1919|-120.3644|Data processing m...|1958-10-11 18:30:00| 64|\n",
      "|4170242670039985|Rebecca|Trujillo|     F|       242 Cody Pass|      Colstrip|   MT|59323|45.9344|-106.6368|          Air broker|1983-08-08 18:30:00| 39|\n",
      "|   4006862159277| Cheryl|    Rice|     F|0771 Solis Road A...|      Brooklyn|   NY|11228|40.6174| -74.0121|     Tourism officer|1957-07-23 18:30:00| 65|\n",
      "+----------------+-------+--------+------+--------------------+--------------+-----+-----+-------+---------+--------------------+-------------------+---+\n",
      "only showing top 3 rows\n",
      "\n"
     ]
    }
   ],
   "source": [
    "customer_age_df.show(n=3)"
   ]
  },
  {
   "cell_type": "code",
   "execution_count": 43,
   "id": "0f4242c8-4f6f-4ba8-aafd-1c71b9a74441",
   "metadata": {},
   "outputs": [],
   "source": [
    "processed_df = (\n",
    "                transaction_df.join(F.broadcast(customer_age_df).alias(\"cust\"), \"cc_num\", how=\"inner\")\n",
    "                        .withColumn(\"distance\", F.round(get_haversine_distance_udf(\"cust.lat\", \"cust.long\", \"merch_lat\", \"merch_long\"), 2))\n",
    "                        .select(\"cc_num\", \"trans_num\", \"trans_time\", \"category\", \"merchant\", \"amt\", \"merch_lat\", \"merch_long\", \"distance\", \"age\", \"is_fraud\")\n",
    "            )"
   ]
  },
  {
   "cell_type": "code",
   "execution_count": 44,
   "id": "fd62f48b-2d39-4f3b-92f4-21cb659bb781",
   "metadata": {},
   "outputs": [
    {
     "name": "stdout",
     "output_type": "stream",
     "text": [
      "+----------------+--------------------+-------------------+-------------+--------------+-----+---------+-----------+--------+---+--------+\n",
      "|          cc_num|           trans_num|         trans_time|     category|      merchant|  amt|merch_lat| merch_long|distance|age|is_fraud|\n",
      "+----------------+--------------------+-------------------+-------------+--------------+-----+---------+-----------+--------+---+--------+\n",
      "| 180094108369013|80f5177be11f0bcd7...|2012-01-01 00:12:15|personal_care|   Hills-Boyer| 64.0|39.011566|-119.937831|    1.23| 73|     0.0|\n",
      "|4368593032190508|7933d389bf8ef8a11...|2012-01-01 00:16:58|gas_transport|Friesen-DAmore|133.0|40.149071| -75.589697|    3.51| 62|     0.0|\n",
      "+----------------+--------------------+-------------------+-------------+--------------+-----+---------+-----------+--------+---+--------+\n",
      "only showing top 2 rows\n",
      "\n"
     ]
    }
   ],
   "source": [
    "processed_df.show(n=2)"
   ]
  },
  {
   "cell_type": "code",
   "execution_count": 45,
   "id": "a21cd57f-ad9b-476e-9a6b-c4ecaac26756",
   "metadata": {},
   "outputs": [
    {
     "data": {
      "text/plain": [
       "DataFrame[cc_num: string, trans_num: string, trans_time: timestamp, category: string, merchant: string, amt: double, merch_lat: double, merch_long: double, distance: double, age: int, is_fraud: double]"
      ]
     },
     "execution_count": 45,
     "metadata": {},
     "output_type": "execute_result"
    }
   ],
   "source": [
    "processed_df.cache()"
   ]
  },
  {
   "cell_type": "code",
   "execution_count": 46,
   "id": "e484344a-3a9b-437c-83c7-6a5a97d4cb96",
   "metadata": {},
   "outputs": [],
   "source": [
    "fraud_df = processed_df.filter(F.col(\"is_fraud\") == 1)\n",
    "non_fraud_df = processed_df.filter(F.col(\"is_fraud\") == 0)"
   ]
  },
  {
   "cell_type": "code",
   "execution_count": 47,
   "id": "d04e8004-9736-4027-bf82-15facc411b05",
   "metadata": {},
   "outputs": [
    {
     "name": "stdout",
     "output_type": "stream",
     "text": [
      "+----------------+--------------------+-------------------+--------------+--------------+------+---------+-----------+--------+---+--------+\n",
      "|          cc_num|           trans_num|         trans_time|      category|      merchant|   amt|merch_lat| merch_long|distance|age|is_fraud|\n",
      "+----------------+--------------------+-------------------+--------------+--------------+------+---------+-----------+--------+---+--------+\n",
      "|5157436163845247|8e0299d3779108d4d...|2012-01-02 01:23:34|health_fitness|Dietrich-Fadel|1774.0|33.619662|-117.391852|  225.49| 32|     1.0|\n",
      "|5157436163845247|2fe127c95a68344e6...|2012-01-02 01:52:06|  shopping_pos|     Lynch Ltd|2013.0|34.570986| -118.71129|   89.74| 32|     1.0|\n",
      "|5157436163845247|80d10820173241448...|2012-01-02 02:00:37|  shopping_pos|  Hudson-Grady|1801.0|36.988153|-120.376765|  154.79| 32|     1.0|\n",
      "+----------------+--------------------+-------------------+--------------+--------------+------+---------+-----------+--------+---+--------+\n",
      "only showing top 3 rows\n",
      "\n"
     ]
    }
   ],
   "source": [
    "fraud_df.show(n=3)"
   ]
  },
  {
   "cell_type": "code",
   "execution_count": 54,
   "id": "f5e7cb78-c4e7-466d-8c82-7dee42be8522",
   "metadata": {},
   "outputs": [],
   "source": [
    "spark_opts_fraud_table = {\n",
    "    \"keyspace\": Config.keyspace,\n",
    "    \"table\": Config.table_fraud,\n",
    "    \"confirm.truncate\": True\n",
    "}"
   ]
  },
  {
   "cell_type": "code",
   "execution_count": 53,
   "id": "eb54969d-d598-437c-a53d-afe2df624470",
   "metadata": {},
   "outputs": [],
   "source": [
    "(\n",
    "    fraud_df.write\n",
    "        .format(Config.cassandra_format)\n",
    "        .mode(\"overwrite\")\n",
    "        .options(**spark_opts_fraud_table, **hosts)\n",
    "        .save()\n",
    ")"
   ]
  },
  {
   "cell_type": "code",
   "execution_count": 55,
   "id": "fde30ab7-d951-4043-8421-0d6f2d39e333",
   "metadata": {},
   "outputs": [],
   "source": [
    "spark_opts_non_fraud_table = {\n",
    "    \"keyspace\": Config.keyspace,\n",
    "    \"table\": Config.table_non_fraud,\n",
    "    \"confirm.truncate\": True\n",
    "}"
   ]
  },
  {
   "cell_type": "code",
   "execution_count": 56,
   "id": "6729ab16-319a-4c9c-9d73-beb8922d2482",
   "metadata": {},
   "outputs": [],
   "source": [
    "(\n",
    "    non_fraud_df.write\n",
    "        .format(Config.cassandra_format)\n",
    "        .mode(\"overwrite\")\n",
    "        .options(**spark_opts_non_fraud_table, **hosts)\n",
    "        .save()\n",
    ")"
   ]
  },
  {
   "cell_type": "code",
   "execution_count": 57,
   "id": "e20bc4b1-0aa8-4c33-93d4-1fb1f342e139",
   "metadata": {},
   "outputs": [
    {
     "name": "stdout",
     "output_type": "stream",
     "text": [
      "+---------------+-------------------+---+------+------------+--------+--------+---------+----------+--------------------+--------------------+\n",
      "|         cc_num|         trans_time|age|   amt|    category|distance|is_fraud|merch_lat|merch_long|            merchant|           trans_num|\n",
      "+---------------+-------------------+---+------+------------+--------+--------+---------+----------+--------------------+--------------------+\n",
      "|341559343212109|2012-01-17 23:36:55| 78|1082.0|shopping_net|    52.7|     1.0|39.810603|-88.442308|    Schmidt and Sons|4e8d75754e4e9b6df...|\n",
      "|341559343212109|2012-01-17 23:17:40| 78|1376.0| grocery_pos|  169.17|     1.0|37.921349|-86.744044|        Bailey-Morar|f154f3c85a0239b84...|\n",
      "|341559343212109|2012-01-17 23:09:48| 78| 248.0| grocery_pos|   152.7|     1.0|38.021388|-86.344542|           Kunze Inc|ff94e13997e34c06c...|\n",
      "|341559343212109|2012-01-17 22:41:58| 78| 998.0|shopping_net|   52.01|     1.0|38.990974|-87.871855|Reichert, Rowe an...|c11e2d86100c70885...|\n",
      "|341559343212109|2012-01-17 22:40:42| 78| 453.0|shopping_net|   88.43|     1.0|38.552937|-88.677281|Labadie, Treutel ...|972abd0518e61678c...|\n",
      "+---------------+-------------------+---+------+------------+--------+--------+---------+----------+--------------------+--------------------+\n",
      "only showing top 5 rows\n",
      "\n"
     ]
    }
   ],
   "source": [
    "(\n",
    "    spark.read\n",
    "        .format(Config.cassandra_format)\n",
    "        .options(**spark_opts_fraud_table, **hosts)\n",
    "        .load()\n",
    "        .show(n=5)\n",
    ")"
   ]
  },
  {
   "cell_type": "code",
   "execution_count": 58,
   "id": "918cd92a-849e-45b4-b3f9-ef94ab73f084",
   "metadata": {},
   "outputs": [
    {
     "name": "stdout",
     "output_type": "stream",
     "text": [
      "+--------------+-------------------+---+-----+-------------+--------+--------+---------+----------+--------------------+--------------------+\n",
      "|        cc_num|         trans_time|age|  amt|     category|distance|is_fraud|merch_lat|merch_long|            merchant|           trans_num|\n",
      "+--------------+-------------------+---+-----+-------------+--------+--------+---------+----------+--------------------+--------------------+\n",
      "|30157941709315|2012-02-01 05:05:11| 48|375.0|     misc_net|    0.65|     0.0|43.627917|-91.484569|      Flatley-Durgan|600e35d550f6046ce...|\n",
      "|30157941709315|2012-01-31 15:14:54| 48|357.0|entertainment|    1.94|     0.0|43.608473|-91.472015|Schaefer, Fay and...|c6ecaa2e1f29ee311...|\n",
      "|30157941709315|2012-01-30 21:51:14| 48|408.0|entertainment|    2.21|     0.0|43.637434| -91.49716|Parker, Nolan and...|bcc9e3c696ce6f154...|\n",
      "|30157941709315|2012-01-30 19:31:03| 48| 57.0|  food_dining|    0.94|     0.0|43.621082|-91.474712|        Leannon-Ward|27e66cdb5f564e756...|\n",
      "|30157941709315|2012-01-29 01:58:48| 48|132.0| shopping_pos|    1.35|     0.0|43.621281|-91.496626|      Jast-McDermott|fda27279d73388a10...|\n",
      "+--------------+-------------------+---+-----+-------------+--------+--------+---------+----------+--------------------+--------------------+\n",
      "only showing top 5 rows\n",
      "\n"
     ]
    }
   ],
   "source": [
    "(\n",
    "    spark.read\n",
    "        .format(Config.cassandra_format)\n",
    "        .options(**spark_opts_non_fraud_table, **hosts)\n",
    "        .load()\n",
    "        .show(n=5)\n",
    ")"
   ]
  },
  {
   "cell_type": "markdown",
   "id": "f339fe9d-676f-45c0-8ee1-cea4f4b61f34",
   "metadata": {},
   "source": [
    "## Using package"
   ]
  },
  {
   "cell_type": "code",
   "execution_count": null,
   "id": "5dfdfef1-b7fd-4d14-a80f-1382687f5ae2",
   "metadata": {},
   "outputs": [],
   "source": [
    "job_name = \"import_to_cassandra\""
   ]
  },
  {
   "cell_type": "code",
   "execution_count": null,
   "id": "c4434ec9-041b-4255-a688-832afbdaa9ba",
   "metadata": {},
   "outputs": [],
   "source": [
    "job_module = importlib.import_module(f\"jobs.{job_name}.entrypoint\")\n",
    "getattr(job_module, \"run\")(spark, config)"
   ]
  },
  {
   "cell_type": "markdown",
   "id": "7752e7fb-7564-4e3b-b358-d4fbc999c561",
   "metadata": {
    "jp-MarkdownHeadingCollapsed": true
   },
   "source": [
    "# Job 2: Fraud Detection Training"
   ]
  },
  {
   "cell_type": "code",
   "execution_count": 40,
   "id": "c0e33ff9-da85-47ff-9ab6-452f8b71622f",
   "metadata": {},
   "outputs": [],
   "source": [
    "job_name = \"fraud_detection_training\""
   ]
  },
  {
   "cell_type": "code",
   "execution_count": 41,
   "id": "4a79e66b-aa5b-41f9-b0bc-29e19250c917",
   "metadata": {},
   "outputs": [],
   "source": [
    "import numpy as np\n",
    "np.random.seed(1111)"
   ]
  },
  {
   "cell_type": "code",
   "execution_count": 51,
   "id": "62cdb9f4-fc1e-46c1-89d6-959e9599d804",
   "metadata": {},
   "outputs": [
    {
     "name": "stdout",
     "output_type": "stream",
     "text": [
      "============================== Setting up Job: FraudDetectionTraining ==============================\n",
      "============================== Running Job: FraudDetectionTraining ==============================\n",
      "{'maxIter': 30, 'seed': 123}\n",
      "{'maxBins': 700, 'seed': 123}\n",
      "0.9997526339502256\n"
     ]
    }
   ],
   "source": [
    "job_module = importlib.import_module(f\"jobs.{job_name}.entrypoint\")\n",
    "getattr(job_module, \"run\")(spark, config)"
   ]
  },
  {
   "cell_type": "code",
   "execution_count": 26,
   "id": "22ac17ba-e633-4cae-8ff2-f8641a638016",
   "metadata": {},
   "outputs": [
    {
     "name": "stdout",
     "output_type": "stream",
     "text": [
      "============================== Setting up Job: FraudDetectionTraining ==============================\n",
      "============================== Running Job: FraudDetectionTraining ==============================\n",
      "{'maxIter': 30, 'seed': 123}\n",
      "{'maxBins': 700, 'seed': 123}\n",
      "0.9995154474091957\n"
     ]
    }
   ],
   "source": [
    "job_module = importlib.import_module(f\"jobs.{job_name}.entrypoint\")\n",
    "getattr(job_module, \"run\")(spark, config)"
   ]
  },
  {
   "cell_type": "code",
   "execution_count": 27,
   "id": "bcd3b853-26f4-49f5-918c-7226a0b0d916",
   "metadata": {},
   "outputs": [
    {
     "name": "stdout",
     "output_type": "stream",
     "text": [
      "============================== Setting up Job: FraudDetectionTraining ==============================\n",
      "============================== Running Job: FraudDetectionTraining ==============================\n",
      "{'maxIter': 30, 'seed': 123}\n",
      "{'maxBins': 700, 'seed': 123}\n",
      "0.9884113299530023\n"
     ]
    }
   ],
   "source": [
    "job_module = importlib.import_module(f\"jobs.{job_name}.entrypoint\")\n",
    "getattr(job_module, \"run\")(spark, config)"
   ]
  },
  {
   "cell_type": "markdown",
   "id": "91aae54b-70b2-4019-8b9c-39885ed0376e",
   "metadata": {},
   "source": [
    "# Job 3: Fraud Detection Inference"
   ]
  },
  {
   "cell_type": "markdown",
   "id": "ad992b7d-981e-4582-85c4-09d2f220c8f7",
   "metadata": {},
   "source": [
    "## Consuming from Kafka stream"
   ]
  },
  {
   "cell_type": "code",
   "execution_count": 127,
   "id": "e1b785ff-1fd7-4697-8737-ccdd970ff32b",
   "metadata": {},
   "outputs": [],
   "source": [
    "topic = \"realtime-ml_v4\""
   ]
  },
  {
   "cell_type": "code",
   "execution_count": 141,
   "id": "f59d158e-93a6-45d4-a30d-6413ba75f743",
   "metadata": {},
   "outputs": [
    {
     "name": "stdout",
     "output_type": "stream",
     "text": [
      "Deleted topic: realtime-ml_v4\n"
     ]
    }
   ],
   "source": [
    "from kafka import KafkaAdminClient\n",
    "from kafka.errors import UnknownTopicOrPartitionError\n",
    "\n",
    "admin_client = KafkaAdminClient(bootstrap_servers=[\"broker:29092\"])\n",
    "try:\n",
    "    admin_client.delete_topics(topics=[topic])\n",
    "    print(f\"Deleted topic: {topic}\")\n",
    "except UnknownTopicOrPartitionError:\n",
    "    print(f\"Topic {topic} doesn't exist\")"
   ]
  },
  {
   "cell_type": "code",
   "execution_count": 142,
   "id": "f8e3c7e9-104d-4739-aeca-3634333b3314",
   "metadata": {},
   "outputs": [
    {
     "data": {
      "text/plain": [
       "[None]"
      ]
     },
     "execution_count": 142,
     "metadata": {},
     "output_type": "execute_result"
    }
   ],
   "source": [
    "[x.stop() for x in spark.streams.active]"
   ]
  },
  {
   "cell_type": "code",
   "execution_count": 129,
   "id": "894cf045-7876-43b1-92d0-81b9fabd0ca1",
   "metadata": {},
   "outputs": [],
   "source": [
    "from schemas.structs import realtime_transaction_schema"
   ]
  },
  {
   "cell_type": "code",
   "execution_count": 130,
   "id": "574f705b-a484-40e1-ac8b-4f371eece85c",
   "metadata": {},
   "outputs": [],
   "source": [
    "df = (spark\n",
    "      .readStream\n",
    "      .format(\"kafka\")\n",
    "      .option(\"kafka.bootstrap.servers\", \"broker:29092\")\n",
    "      .option(\"startingOffsets\", \"earliest\")\n",
    "      .option(\"subscribe\", topic)\n",
    "      .load()\n",
    "      .withColumn(\"transformed\", F.from_json(F.col(\"value\").cast(T.StringType()), realtime_transaction_schema))\n",
    "     )"
   ]
  },
  {
   "cell_type": "code",
   "execution_count": 131,
   "id": "2427dc86-a990-4649-a24a-544199a25050",
   "metadata": {},
   "outputs": [
    {
     "name": "stdout",
     "output_type": "stream",
     "text": [
      "root\n",
      " |-- key: binary (nullable = true)\n",
      " |-- value: binary (nullable = true)\n",
      " |-- topic: string (nullable = true)\n",
      " |-- partition: integer (nullable = true)\n",
      " |-- offset: long (nullable = true)\n",
      " |-- timestamp: timestamp (nullable = true)\n",
      " |-- timestampType: integer (nullable = true)\n",
      " |-- transformed: struct (nullable = true)\n",
      " |    |-- cc_num: string (nullable = true)\n",
      " |    |-- first: string (nullable = true)\n",
      " |    |-- last: string (nullable = true)\n",
      " |    |-- trans_num: string (nullable = true)\n",
      " |    |-- trans_time: timestamp (nullable = true)\n",
      " |    |-- category: string (nullable = true)\n",
      " |    |-- merchant: string (nullable = true)\n",
      " |    |-- amt: string (nullable = true)\n",
      " |    |-- merch_lat: string (nullable = true)\n",
      " |    |-- merch_long: string (nullable = true)\n",
      "\n"
     ]
    }
   ],
   "source": [
    "df.printSchema()"
   ]
  },
  {
   "cell_type": "code",
   "execution_count": null,
   "id": "6d2a8131-f1ad-4090-91af-bcc30597dbbb",
   "metadata": {},
   "outputs": [],
   "source": []
  },
  {
   "cell_type": "code",
   "execution_count": 132,
   "id": "474edd1b-013e-4514-ba0d-db76736c893d",
   "metadata": {},
   "outputs": [],
   "source": [
    "query = (\n",
    "        df.withWatermark(\"timestamp\", \"1 minute\")\n",
    "        .writeStream\n",
    "        .outputMode(\"append\")\n",
    "        .format(\"memory\")\n",
    "        .queryName(\"realtime_query\")\n",
    ")"
   ]
  },
  {
   "cell_type": "code",
   "execution_count": 133,
   "id": "b2128b53-bae1-468f-82bb-55835b6b86c9",
   "metadata": {},
   "outputs": [
    {
     "data": {
      "text/plain": [
       "<pyspark.sql.streaming.StreamingQuery at 0x7f8613da19d0>"
      ]
     },
     "execution_count": 133,
     "metadata": {},
     "output_type": "execute_result"
    }
   ],
   "source": [
    "query.start()"
   ]
  },
  {
   "cell_type": "code",
   "execution_count": null,
   "id": "105e4d8b-079a-4ec7-98b7-cf2ebde6c155",
   "metadata": {},
   "outputs": [],
   "source": [
    "from IPython.display import display, clear_output\n",
    "from time import sleep\n",
    "\n",
    "while True:\n",
    "    clear_output(wait=True) \n",
    "    display(spark.sql(\"select * FROM realtime_query\").tail(5))\n",
    "    sleep(1)"
   ]
  },
  {
   "cell_type": "code",
   "execution_count": 135,
   "id": "0ebaf0fe-9a69-4d21-8cba-185298fdd64d",
   "metadata": {},
   "outputs": [],
   "source": [
    "test_df = spark.sql(\"select * FROM realtime_query order by timestamp desc\")"
   ]
  },
  {
   "cell_type": "code",
   "execution_count": 137,
   "id": "e83a75ed-7afb-4354-af6a-749401536e50",
   "metadata": {},
   "outputs": [
    {
     "name": "stdout",
     "output_type": "stream",
     "text": [
      "+----------------+-------+-------+--------------------+--------------------+--------------+--------------------+---+---------+-----------+\n",
      "|          cc_num|  first|   last|           trans_num|          trans_time|      category|            merchant|amt|merch_lat| merch_long|\n",
      "+----------------+-------+-------+--------------------+--------------------+--------------+--------------------+---+---------+-----------+\n",
      "|4368593032190508|  Carla|Fleming|9e3ee495dee3ac457...|2023-07-25 15:30:...|health_fitness|Klocko, Runolfsdo...|229|40.203391| -75.552377|\n",
      "|4037295225657274|Antonio| Garcia|9d88e9ebbc31b218c...|2023-07-25 15:30:...|  shopping_pos|Nitzsche, Kessler...|176|40.078255|-102.402743|\n",
      "|4515092388857440|Timothy|  Silva|02d27e94f279e1013...|2023-07-25 15:30:...|  shopping_pos|Baumbach, Strosin...|198|41.549359| -83.044403|\n",
      "|4037295225657274|Antonio| Garcia|4a3848719d72daaa3...|2023-07-25 15:30:...|  shopping_pos|           Lynch Ltd| 62|40.078781|-102.373954|\n",
      "|   4361355512072|Matthew| Nelson|1467c318b5d73d22d...|2023-07-25 15:30:...| entertainment|         Larson-Moen|119|47.297797| -96.819362|\n",
      "|4368593032190508|  Carla|Fleming|7933d389bf8ef8a11...|2023-07-25 15:30:...| gas_transport|      Friesen-DAmore|133|40.149071| -75.589697|\n",
      "| 180094108369013|   John|Holland|80f5177be11f0bcd7...|2023-07-25 15:29:...| personal_care|         Hills-Boyer| 64|39.011566|-119.937831|\n",
      "+----------------+-------+-------+--------------------+--------------------+--------------+--------------------+---+---------+-----------+\n",
      "\n"
     ]
    }
   ],
   "source": [
    "test_df.select(\"transformed.*\").show()"
   ]
  },
  {
   "cell_type": "code",
   "execution_count": 57,
   "id": "d2c0a56d-ee8f-41bb-90ec-0538ae7d51f5",
   "metadata": {},
   "outputs": [],
   "source": [
    "transactionStream = (test_df\n",
    "      .selectExpr(\"transformed.*\", \"partition\", \"offset\")\n",
    "      .withColumn(\"amt\", F.col(\"amt\").cast(T.DoubleType()))\n",
    "      .withColumn(\"merch_lat\", F.col(\"merch_lat\").cast(T.DoubleType()))\n",
    "      .withColumn(\"merch_long\", F.col(\"merch_long\").cast(T.DoubleType()))\n",
    "      .drop(\"first\")\n",
    "      .drop(\"last\"))"
   ]
  },
  {
   "cell_type": "code",
   "execution_count": 58,
   "id": "14fa3b0a-6b80-4bc3-9927-302e835bf5f0",
   "metadata": {},
   "outputs": [
    {
     "name": "stdout",
     "output_type": "stream",
     "text": [
      "+---------------+--------------------+--------------------+----------+--------------+----+---------+----------+---------+------+\n",
      "|         cc_num|           trans_num|          trans_time|  category|      merchant| amt|merch_lat|merch_long|partition|offset|\n",
      "+---------------+--------------------+--------------------+----------+--------------+----+---------+----------+---------+------+\n",
      "|180094108369013|c1ad7a1b73172ef67...|2023-07-24 15:36:...|1325382672|        travel|null|     81.0| 39.015861|        0|    10|\n",
      "| 38535403302699|767d7b2ae75fe076e...|2023-07-24 15:36:...|1325382536|health_fitness|null|     null|     122.0|        0|     9|\n",
      "|370763211656868|662830b8b761f71f9...|2023-07-24 15:36:...|1325381961|   grocery_net|null|     null|     141.0|        0|     8|\n",
      "+---------------+--------------------+--------------------+----------+--------------+----+---------+----------+---------+------+\n",
      "only showing top 3 rows\n",
      "\n"
     ]
    }
   ],
   "source": [
    "transactionStream.show(n=3)"
   ]
  },
  {
   "cell_type": "markdown",
   "id": "87e26e69-3ecc-462b-8c92-20213950095c",
   "metadata": {},
   "source": [
    "## using package"
   ]
  },
  {
   "cell_type": "code",
   "execution_count": 165,
   "id": "cc22bb72-c17c-491f-aa5a-648de9fa191e",
   "metadata": {},
   "outputs": [],
   "source": [
    "job_name = \"realtime_inference\""
   ]
  },
  {
   "cell_type": "code",
   "execution_count": 166,
   "id": "cc69402a-16d7-4bce-ba15-78695a8b5540",
   "metadata": {},
   "outputs": [
    {
     "data": {
      "text/plain": [
       "SparkConfig(app_name='fraud_detection', master='spark://spark-master:7077', jars='/usr/local/spark/jars/hadoop-aws-3.2.0.jar,/usr/local/spark/jars/aws-java-sdk-bundle-1.11.375.jar,/usr/local/spark/jars/spark-cassandra-connector-assembly_2.12-3.0.0.jar', exec_mem='480m', cassandra_format='org.apache.spark.sql.cassandra', cassandra_host='cassandra')"
      ]
     },
     "execution_count": 166,
     "metadata": {},
     "output_type": "execute_result"
    }
   ],
   "source": [
    "config.spark"
   ]
  },
  {
   "cell_type": "code",
   "execution_count": 173,
   "id": "faa8baf9-d968-40a3-a273-b8ab8cc1f1b2",
   "metadata": {},
   "outputs": [
    {
     "name": "stdout",
     "output_type": "stream",
     "text": [
      "============================== Setting up Job: RealtimeInference ==============================\n",
      "============================== Running Job: RealtimeInference ==============================\n",
      "Customer age df done.\n",
      "+----------------+-------+-------------------+-----+------+--------------------+---------+-------+---------+-----+--------------------+-----+---+\n",
      "|          cc_num|   city|                dob|first|gender|                 job|     last|    lat|     long|state|              street|  zip|age|\n",
      "+----------------+-------+-------------------+-----+------+--------------------+---------+-------+---------+-----+--------------------+-----+---+\n",
      "|  30260722249657| Canton|1998-03-01 18:30:00|Debra|     F|Teacher, special ...|    Davis| 42.291|  -83.465|   MI|       566 Reed Well|48188| 25|\n",
      "|5132731018032805|Lemitar|1949-03-24 18:30:00|Scott|     M|Private music tea...|Robertson| 34.156|-106.9044|   NM| 7416 Nicholas Flats|87823| 74|\n",
      "|   4550801576257|   Erie|1955-06-20 18:30:00|Sarah|     F|Administrator, sp...|  Parsons|42.1265|  -80.064|   PA|87839 Taylor Keys...|16503| 68|\n",
      "+----------------+-------+-------------------+-----+------+--------------------+---------+-------+---------+-----+--------------------+-----+---+\n",
      "only showing top 3 rows\n",
      "\n",
      "Read from stream.\n",
      "Done processing.\n",
      "Feature transformation done.\n",
      "Model inference done.\n",
      "root\n",
      " |-- cc_num: string (nullable = true)\n",
      " |-- trans_time: timestamp (nullable = true)\n",
      " |-- trans_num: string (nullable = true)\n",
      " |-- category: string (nullable = true)\n",
      " |-- merchant: string (nullable = true)\n",
      " |-- amt: double (nullable = true)\n",
      " |-- merch_lat: double (nullable = true)\n",
      " |-- merch_long: double (nullable = true)\n",
      " |-- distance: double (nullable = true)\n",
      " |-- age: integer (nullable = true)\n",
      " |-- is_fraud: double (nullable = false)\n",
      "\n",
      "{'spark.cassandra.connection.host': 'cassandra', 'keyspace': 'creditcard', 'table': 'fraud_transaction'}\n"
     ]
    },
    {
     "ename": "KeyboardInterrupt",
     "evalue": "",
     "output_type": "error",
     "traceback": [
      "\u001b[0;31m---------------------------------------------------------------------------\u001b[0m",
      "\u001b[0;31mKeyboardInterrupt\u001b[0m                         Traceback (most recent call last)",
      "\u001b[0;32m/tmp/ipykernel_15674/944849381.py\u001b[0m in \u001b[0;36m<module>\u001b[0;34m\u001b[0m\n\u001b[1;32m      1\u001b[0m \u001b[0mjob_module\u001b[0m \u001b[0;34m=\u001b[0m \u001b[0mimportlib\u001b[0m\u001b[0;34m.\u001b[0m\u001b[0mimport_module\u001b[0m\u001b[0;34m(\u001b[0m\u001b[0;34mf\"jobs.{job_name}.entrypoint\"\u001b[0m\u001b[0;34m)\u001b[0m\u001b[0;34m\u001b[0m\u001b[0;34m\u001b[0m\u001b[0m\n\u001b[0;32m----> 2\u001b[0;31m \u001b[0mgetattr\u001b[0m\u001b[0;34m(\u001b[0m\u001b[0mjob_module\u001b[0m\u001b[0;34m,\u001b[0m \u001b[0;34m\"run\"\u001b[0m\u001b[0;34m)\u001b[0m\u001b[0;34m(\u001b[0m\u001b[0mspark\u001b[0m\u001b[0;34m,\u001b[0m \u001b[0mconfig\u001b[0m\u001b[0;34m)\u001b[0m\u001b[0;34m\u001b[0m\u001b[0;34m\u001b[0m\u001b[0m\n\u001b[0m",
      "\u001b[0;32m~/src/jobs/realtime_inference/entrypoint.py\u001b[0m in \u001b[0;36mrun\u001b[0;34m(spark, config)\u001b[0m\n\u001b[1;32m    180\u001b[0m     \u001b[0mjob\u001b[0m \u001b[0;34m=\u001b[0m \u001b[0mRealtimeInference\u001b[0m\u001b[0;34m(\u001b[0m\u001b[0mspark\u001b[0m\u001b[0;34m,\u001b[0m \u001b[0mconfig\u001b[0m\u001b[0;34m)\u001b[0m\u001b[0;34m\u001b[0m\u001b[0;34m\u001b[0m\u001b[0m\n\u001b[1;32m    181\u001b[0m     \u001b[0mjob\u001b[0m\u001b[0;34m.\u001b[0m\u001b[0msetup\u001b[0m\u001b[0;34m(\u001b[0m\u001b[0;34m)\u001b[0m\u001b[0;34m\u001b[0m\u001b[0;34m\u001b[0m\u001b[0m\n\u001b[0;32m--> 182\u001b[0;31m     \u001b[0mjob\u001b[0m\u001b[0;34m.\u001b[0m\u001b[0mrun\u001b[0m\u001b[0;34m(\u001b[0m\u001b[0;34m)\u001b[0m\u001b[0;34m\u001b[0m\u001b[0;34m\u001b[0m\u001b[0m\n\u001b[0m",
      "\u001b[0;32m~/src/jobs/realtime_inference/entrypoint.py\u001b[0m in \u001b[0;36mrun\u001b[0;34m(self)\u001b[0m\n\u001b[1;32m    146\u001b[0m         \u001b[0mfraud_predictions_df\u001b[0m\u001b[0;34m.\u001b[0m\u001b[0mprintSchema\u001b[0m\u001b[0;34m(\u001b[0m\u001b[0;34m)\u001b[0m\u001b[0;34m\u001b[0m\u001b[0;34m\u001b[0m\u001b[0m\n\u001b[1;32m    147\u001b[0m         self.save_for_each(\n\u001b[0;32m--> 148\u001b[0;31m             \u001b[0mfraud_predictions_df\u001b[0m\u001b[0;34m,\u001b[0m \u001b[0mfraud_batch_writer\u001b[0m\u001b[0;34m,\u001b[0m \u001b[0mself\u001b[0m\u001b[0;34m.\u001b[0m\u001b[0mspark_opts_fraud_table\u001b[0m\u001b[0;34m\u001b[0m\u001b[0;34m\u001b[0m\u001b[0m\n\u001b[0m\u001b[1;32m    149\u001b[0m         )\n\u001b[1;32m    150\u001b[0m         self.save_for_each(\n",
      "\u001b[0;32m~/src/jobs/realtime_inference/entrypoint.py\u001b[0m in \u001b[0;36msave_for_each\u001b[0;34m(self, df, batchwriter, options, mode)\u001b[0m\n\u001b[1;32m    171\u001b[0m             \u001b[0mdf\u001b[0m\u001b[0;34m.\u001b[0m\u001b[0mwriteStream\u001b[0m\u001b[0;34m.\u001b[0m\u001b[0moptions\u001b[0m\u001b[0;34m(\u001b[0m\u001b[0;34m**\u001b[0m\u001b[0moptions\u001b[0m\u001b[0;34m)\u001b[0m\u001b[0;34m\u001b[0m\u001b[0;34m\u001b[0m\u001b[0m\n\u001b[1;32m    172\u001b[0m             \u001b[0;34m.\u001b[0m\u001b[0mforeachBatch\u001b[0m\u001b[0;34m(\u001b[0m\u001b[0mbatchwriter\u001b[0m\u001b[0;34m)\u001b[0m\u001b[0;34m\u001b[0m\u001b[0;34m\u001b[0m\u001b[0m\n\u001b[0;32m--> 173\u001b[0;31m             \u001b[0;34m.\u001b[0m\u001b[0moutputMode\u001b[0m\u001b[0;34m(\u001b[0m\u001b[0mmode\u001b[0m\u001b[0;34m)\u001b[0m\u001b[0;34m\u001b[0m\u001b[0;34m\u001b[0m\u001b[0m\n\u001b[0m\u001b[1;32m    174\u001b[0m             \u001b[0;34m.\u001b[0m\u001b[0mstart\u001b[0m\u001b[0;34m(\u001b[0m\u001b[0;34m)\u001b[0m\u001b[0;34m\u001b[0m\u001b[0;34m\u001b[0m\u001b[0m\n\u001b[1;32m    175\u001b[0m             \u001b[0;34m.\u001b[0m\u001b[0mawaitTermination\u001b[0m\u001b[0;34m(\u001b[0m\u001b[0;34m)\u001b[0m\u001b[0;34m\u001b[0m\u001b[0;34m\u001b[0m\u001b[0m\n",
      "\u001b[0;32m/usr/local/spark/python/pyspark/sql/streaming.py\u001b[0m in \u001b[0;36mawaitTermination\u001b[0;34m(self, timeout)\u001b[0m\n\u001b[1;32m    101\u001b[0m             \u001b[0;32mreturn\u001b[0m \u001b[0mself\u001b[0m\u001b[0;34m.\u001b[0m\u001b[0m_jsq\u001b[0m\u001b[0;34m.\u001b[0m\u001b[0mawaitTermination\u001b[0m\u001b[0;34m(\u001b[0m\u001b[0mint\u001b[0m\u001b[0;34m(\u001b[0m\u001b[0mtimeout\u001b[0m \u001b[0;34m*\u001b[0m \u001b[0;36m1000\u001b[0m\u001b[0;34m)\u001b[0m\u001b[0;34m)\u001b[0m\u001b[0;34m\u001b[0m\u001b[0;34m\u001b[0m\u001b[0m\n\u001b[1;32m    102\u001b[0m         \u001b[0;32melse\u001b[0m\u001b[0;34m:\u001b[0m\u001b[0;34m\u001b[0m\u001b[0;34m\u001b[0m\u001b[0m\n\u001b[0;32m--> 103\u001b[0;31m             \u001b[0;32mreturn\u001b[0m \u001b[0mself\u001b[0m\u001b[0;34m.\u001b[0m\u001b[0m_jsq\u001b[0m\u001b[0;34m.\u001b[0m\u001b[0mawaitTermination\u001b[0m\u001b[0;34m(\u001b[0m\u001b[0;34m)\u001b[0m\u001b[0;34m\u001b[0m\u001b[0;34m\u001b[0m\u001b[0m\n\u001b[0m\u001b[1;32m    104\u001b[0m \u001b[0;34m\u001b[0m\u001b[0m\n\u001b[1;32m    105\u001b[0m     \u001b[0;34m@\u001b[0m\u001b[0mproperty\u001b[0m\u001b[0;34m\u001b[0m\u001b[0;34m\u001b[0m\u001b[0m\n",
      "\u001b[0;32m/usr/local/spark/python/lib/py4j-0.10.9-src.zip/py4j/java_gateway.py\u001b[0m in \u001b[0;36m__call__\u001b[0;34m(self, *args)\u001b[0m\n\u001b[1;32m   1301\u001b[0m             \u001b[0mproto\u001b[0m\u001b[0;34m.\u001b[0m\u001b[0mEND_COMMAND_PART\u001b[0m\u001b[0;34m\u001b[0m\u001b[0;34m\u001b[0m\u001b[0m\n\u001b[1;32m   1302\u001b[0m \u001b[0;34m\u001b[0m\u001b[0m\n\u001b[0;32m-> 1303\u001b[0;31m         \u001b[0manswer\u001b[0m \u001b[0;34m=\u001b[0m \u001b[0mself\u001b[0m\u001b[0;34m.\u001b[0m\u001b[0mgateway_client\u001b[0m\u001b[0;34m.\u001b[0m\u001b[0msend_command\u001b[0m\u001b[0;34m(\u001b[0m\u001b[0mcommand\u001b[0m\u001b[0;34m)\u001b[0m\u001b[0;34m\u001b[0m\u001b[0;34m\u001b[0m\u001b[0m\n\u001b[0m\u001b[1;32m   1304\u001b[0m         return_value = get_return_value(\n\u001b[1;32m   1305\u001b[0m             answer, self.gateway_client, self.target_id, self.name)\n",
      "\u001b[0;32m/usr/local/spark/python/lib/py4j-0.10.9-src.zip/py4j/java_gateway.py\u001b[0m in \u001b[0;36msend_command\u001b[0;34m(self, command, retry, binary)\u001b[0m\n\u001b[1;32m   1031\u001b[0m         \u001b[0mconnection\u001b[0m \u001b[0;34m=\u001b[0m \u001b[0mself\u001b[0m\u001b[0;34m.\u001b[0m\u001b[0m_get_connection\u001b[0m\u001b[0;34m(\u001b[0m\u001b[0;34m)\u001b[0m\u001b[0;34m\u001b[0m\u001b[0;34m\u001b[0m\u001b[0m\n\u001b[1;32m   1032\u001b[0m         \u001b[0;32mtry\u001b[0m\u001b[0;34m:\u001b[0m\u001b[0;34m\u001b[0m\u001b[0;34m\u001b[0m\u001b[0m\n\u001b[0;32m-> 1033\u001b[0;31m             \u001b[0mresponse\u001b[0m \u001b[0;34m=\u001b[0m \u001b[0mconnection\u001b[0m\u001b[0;34m.\u001b[0m\u001b[0msend_command\u001b[0m\u001b[0;34m(\u001b[0m\u001b[0mcommand\u001b[0m\u001b[0;34m)\u001b[0m\u001b[0;34m\u001b[0m\u001b[0;34m\u001b[0m\u001b[0m\n\u001b[0m\u001b[1;32m   1034\u001b[0m             \u001b[0;32mif\u001b[0m \u001b[0mbinary\u001b[0m\u001b[0;34m:\u001b[0m\u001b[0;34m\u001b[0m\u001b[0;34m\u001b[0m\u001b[0m\n\u001b[1;32m   1035\u001b[0m                 \u001b[0;32mreturn\u001b[0m \u001b[0mresponse\u001b[0m\u001b[0;34m,\u001b[0m \u001b[0mself\u001b[0m\u001b[0;34m.\u001b[0m\u001b[0m_create_connection_guard\u001b[0m\u001b[0;34m(\u001b[0m\u001b[0mconnection\u001b[0m\u001b[0;34m)\u001b[0m\u001b[0;34m\u001b[0m\u001b[0;34m\u001b[0m\u001b[0m\n",
      "\u001b[0;32m/usr/local/spark/python/lib/py4j-0.10.9-src.zip/py4j/java_gateway.py\u001b[0m in \u001b[0;36msend_command\u001b[0;34m(self, command)\u001b[0m\n\u001b[1;32m   1198\u001b[0m \u001b[0;34m\u001b[0m\u001b[0m\n\u001b[1;32m   1199\u001b[0m         \u001b[0;32mtry\u001b[0m\u001b[0;34m:\u001b[0m\u001b[0;34m\u001b[0m\u001b[0;34m\u001b[0m\u001b[0m\n\u001b[0;32m-> 1200\u001b[0;31m             \u001b[0manswer\u001b[0m \u001b[0;34m=\u001b[0m \u001b[0msmart_decode\u001b[0m\u001b[0;34m(\u001b[0m\u001b[0mself\u001b[0m\u001b[0;34m.\u001b[0m\u001b[0mstream\u001b[0m\u001b[0;34m.\u001b[0m\u001b[0mreadline\u001b[0m\u001b[0;34m(\u001b[0m\u001b[0;34m)\u001b[0m\u001b[0;34m[\u001b[0m\u001b[0;34m:\u001b[0m\u001b[0;34m-\u001b[0m\u001b[0;36m1\u001b[0m\u001b[0;34m]\u001b[0m\u001b[0;34m)\u001b[0m\u001b[0;34m\u001b[0m\u001b[0;34m\u001b[0m\u001b[0m\n\u001b[0m\u001b[1;32m   1201\u001b[0m             \u001b[0mlogger\u001b[0m\u001b[0;34m.\u001b[0m\u001b[0mdebug\u001b[0m\u001b[0;34m(\u001b[0m\u001b[0;34m\"Answer received: {0}\"\u001b[0m\u001b[0;34m.\u001b[0m\u001b[0mformat\u001b[0m\u001b[0;34m(\u001b[0m\u001b[0manswer\u001b[0m\u001b[0;34m)\u001b[0m\u001b[0;34m)\u001b[0m\u001b[0;34m\u001b[0m\u001b[0;34m\u001b[0m\u001b[0m\n\u001b[1;32m   1202\u001b[0m             \u001b[0;32mif\u001b[0m \u001b[0manswer\u001b[0m\u001b[0;34m.\u001b[0m\u001b[0mstartswith\u001b[0m\u001b[0;34m(\u001b[0m\u001b[0mproto\u001b[0m\u001b[0;34m.\u001b[0m\u001b[0mRETURN_MESSAGE\u001b[0m\u001b[0;34m)\u001b[0m\u001b[0;34m:\u001b[0m\u001b[0;34m\u001b[0m\u001b[0;34m\u001b[0m\u001b[0m\n",
      "\u001b[0;32m/opt/conda/envs/python37/lib/python3.7/socket.py\u001b[0m in \u001b[0;36mreadinto\u001b[0;34m(self, b)\u001b[0m\n\u001b[1;32m    587\u001b[0m         \u001b[0;32mwhile\u001b[0m \u001b[0;32mTrue\u001b[0m\u001b[0;34m:\u001b[0m\u001b[0;34m\u001b[0m\u001b[0;34m\u001b[0m\u001b[0m\n\u001b[1;32m    588\u001b[0m             \u001b[0;32mtry\u001b[0m\u001b[0;34m:\u001b[0m\u001b[0;34m\u001b[0m\u001b[0;34m\u001b[0m\u001b[0m\n\u001b[0;32m--> 589\u001b[0;31m                 \u001b[0;32mreturn\u001b[0m \u001b[0mself\u001b[0m\u001b[0;34m.\u001b[0m\u001b[0m_sock\u001b[0m\u001b[0;34m.\u001b[0m\u001b[0mrecv_into\u001b[0m\u001b[0;34m(\u001b[0m\u001b[0mb\u001b[0m\u001b[0;34m)\u001b[0m\u001b[0;34m\u001b[0m\u001b[0;34m\u001b[0m\u001b[0m\n\u001b[0m\u001b[1;32m    590\u001b[0m             \u001b[0;32mexcept\u001b[0m \u001b[0mtimeout\u001b[0m\u001b[0;34m:\u001b[0m\u001b[0;34m\u001b[0m\u001b[0;34m\u001b[0m\u001b[0m\n\u001b[1;32m    591\u001b[0m                 \u001b[0mself\u001b[0m\u001b[0;34m.\u001b[0m\u001b[0m_timeout_occurred\u001b[0m \u001b[0;34m=\u001b[0m \u001b[0;32mTrue\u001b[0m\u001b[0;34m\u001b[0m\u001b[0;34m\u001b[0m\u001b[0m\n",
      "\u001b[0;31mKeyboardInterrupt\u001b[0m: "
     ]
    }
   ],
   "source": [
    "job_module = importlib.import_module(f\"jobs.{job_name}.entrypoint\")\n",
    "getattr(job_module, \"run\")(spark, config)"
   ]
  },
  {
   "cell_type": "code",
   "execution_count": null,
   "id": "203d5569-cab5-4af0-bed2-d80147f4fe68",
   "metadata": {},
   "outputs": [],
   "source": []
  }
 ],
 "metadata": {
  "kernelspec": {
   "display_name": "python37",
   "language": "python",
   "name": "python37"
  },
  "language_info": {
   "codemirror_mode": {
    "name": "ipython",
    "version": 3
   },
   "file_extension": ".py",
   "mimetype": "text/x-python",
   "name": "python",
   "nbconvert_exporter": "python",
   "pygments_lexer": "ipython3",
   "version": "3.7.12"
  }
 },
 "nbformat": 4,
 "nbformat_minor": 5
}

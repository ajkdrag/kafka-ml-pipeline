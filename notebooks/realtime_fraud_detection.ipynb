{
 "cells": [
  {
   "cell_type": "code",
   "execution_count": 1,
   "id": "1349f413-6955-43c7-a18e-a5e33dfb12cd",
   "metadata": {},
   "outputs": [],
   "source": [
    "import sys"
   ]
  },
  {
   "cell_type": "code",
   "execution_count": 6,
   "id": "080f4c70-5bfc-417f-96b5-b43faa8421e5",
   "metadata": {},
   "outputs": [],
   "source": [
    "!{sys.executable} -m pip install -qU python-dotenv"
   ]
  },
  {
   "cell_type": "code",
   "execution_count": 2,
   "id": "46ade797-a4e3-4e14-a011-d78139147969",
   "metadata": {},
   "outputs": [],
   "source": [
    "import os\n",
    "from dotenv import find_dotenv\n",
    "\n",
    "package_root = \"src\"\n",
    "sys.path.append(os.path.join(os.path.dirname(find_dotenv()), package_root))"
   ]
  },
  {
   "cell_type": "code",
   "execution_count": 3,
   "id": "e3271a3a-c5f7-434b-aeac-a6f03a392686",
   "metadata": {},
   "outputs": [
    {
     "data": {
      "text/plain": [
       "['/home/ajkdrag/work',\n",
       " '/usr/local/spark/python/lib/py4j-0.10.9-src.zip',\n",
       " '/usr/local/spark/python',\n",
       " '/home/ajkdrag/work',\n",
       " '/opt/conda/envs/python37/lib/python37.zip',\n",
       " '/opt/conda/envs/python37/lib/python3.7',\n",
       " '/opt/conda/envs/python37/lib/python3.7/lib-dynload',\n",
       " '',\n",
       " '/opt/conda/envs/python37/lib/python3.7/site-packages',\n",
       " '/opt/conda/envs/python37/lib/python3.7/site-packages/IPython/extensions',\n",
       " '/home/ajkdrag/.ipython',\n",
       " '/home/ajkdrag/src']"
      ]
     },
     "execution_count": 3,
     "metadata": {},
     "output_type": "execute_result"
    }
   ],
   "source": [
    "sys.path"
   ]
  },
  {
   "cell_type": "code",
   "execution_count": 4,
   "id": "c8bf8090-c6d8-4814-9d1c-1f158f0b2e9f",
   "metadata": {},
   "outputs": [],
   "source": [
    "%load_ext autoreload\n",
    "%autoreload 2"
   ]
  },
  {
   "cell_type": "markdown",
   "id": "553de4f7-0f8e-41f4-b328-7aedaa4893dd",
   "metadata": {},
   "source": [
    "## Spark setup"
   ]
  },
  {
   "cell_type": "code",
   "execution_count": 5,
   "id": "53a53d74-1a77-4079-a257-7136b4e1f364",
   "metadata": {
    "tags": []
   },
   "outputs": [],
   "source": [
    "from pyspark.sql import SparkSession\n",
    "import pyspark.sql.types as T\n",
    "import pyspark.sql.functions as F"
   ]
  },
  {
   "cell_type": "code",
   "execution_count": 6,
   "id": "c00108ab-6572-4266-ae03-053026d81c4d",
   "metadata": {
    "tags": []
   },
   "outputs": [],
   "source": [
    "jars = [\n",
    "    \"/usr/local/spark/jars/hadoop-aws-3.2.0.jar\",\n",
    "    \"/usr/local/spark/jars/aws-java-sdk-bundle-1.11.375.jar\",\n",
    "    \"/usr/local/spark/jars/spark-cassandra-connector-assembly_2.12-3.0.0.jar\"\n",
    "]"
   ]
  },
  {
   "cell_type": "code",
   "execution_count": 7,
   "id": "e497edf4-5be2-481f-87e0-feaea71c9852",
   "metadata": {},
   "outputs": [],
   "source": [
    "hosts = {\"spark.cassandra.connection.host\": 'cassandra'}"
   ]
  },
  {
   "cell_type": "code",
   "execution_count": 8,
   "id": "2f6c3442-a88d-44f8-b64a-412f0a4d5d00",
   "metadata": {
    "tags": []
   },
   "outputs": [],
   "source": [
    "spark = SparkSession.\\\n",
    "        builder.\\\n",
    "        appName(\"pyspark-notebook\").\\\n",
    "        master(\"spark://spark-master:7077\").\\\n",
    "        config(\"spark.executor.memory\", \"480m\").\\\n",
    "        config(\"spark.jars\", \",\".join(jars)).\\\n",
    "        getOrCreate()"
   ]
  },
  {
   "cell_type": "code",
   "execution_count": 9,
   "id": "35decbbb-1069-48ae-84ad-6af6c6ff7897",
   "metadata": {
    "tags": []
   },
   "outputs": [
    {
     "data": {
      "text/html": [
       "\n",
       "            <div>\n",
       "                <p><b>SparkSession - in-memory</b></p>\n",
       "                \n",
       "        <div>\n",
       "            <p><b>SparkContext</b></p>\n",
       "\n",
       "            <p><a href=\"http://584c35c8a930:4040\">Spark UI</a></p>\n",
       "\n",
       "            <dl>\n",
       "              <dt>Version</dt>\n",
       "                <dd><code>v3.0.2</code></dd>\n",
       "              <dt>Master</dt>\n",
       "                <dd><code>spark://spark-master:7077</code></dd>\n",
       "              <dt>AppName</dt>\n",
       "                <dd><code>pyspark-notebook</code></dd>\n",
       "            </dl>\n",
       "        </div>\n",
       "        \n",
       "            </div>\n",
       "        "
      ],
      "text/plain": [
       "<pyspark.sql.session.SparkSession at 0x7f282731d210>"
      ]
     },
     "execution_count": 9,
     "metadata": {},
     "output_type": "execute_result"
    }
   ],
   "source": [
    "spark"
   ]
  },
  {
   "cell_type": "code",
   "execution_count": 10,
   "id": "43ce6244-2f11-44cf-9357-2a2e7174ea1f",
   "metadata": {
    "tags": []
   },
   "outputs": [],
   "source": [
    "sc = spark.sparkContext"
   ]
  },
  {
   "cell_type": "code",
   "execution_count": 11,
   "id": "ffcf085c-fc28-42bf-b451-a476ac5c1bb6",
   "metadata": {
    "tags": []
   },
   "outputs": [],
   "source": [
    "sc._jsc.hadoopConfiguration().set(\"fs.s3a.endpoint\", \"http://minio:9000\")\n",
    "sc._jsc.hadoopConfiguration().set(\"fs.s3a.access.key\", os.environ[\"AWS_ACCESS_KEY_ID\"])\n",
    "sc._jsc.hadoopConfiguration().set(\"fs.s3a.secret.key\", os.environ[\"AWS_SECRET_ACCESS_KEY\"])\n",
    "sc._jsc.hadoopConfiguration().set(\"fs.s3a.path.style.access\", \"true\")\n",
    "sc._jsc.hadoopConfiguration().set(\"spark.hadoop.fs.s3a.impl\", \"org.apache.hadoop.fs.s3a.S3AFileSystem\")\n",
    "sc._jsc.hadoopConfiguration().set(\"spark.hadoop.fs.s3a.connection.ssl.enabled\", \"false\")"
   ]
  },
  {
   "cell_type": "markdown",
   "id": "ff148e39-65a1-43a2-a3d8-b10f2eb6cbd8",
   "metadata": {},
   "source": [
    "## Testing spark"
   ]
  },
  {
   "cell_type": "code",
   "execution_count": 12,
   "id": "1f0291db-78b2-47ed-bc75-1c83ced14e2b",
   "metadata": {
    "tags": []
   },
   "outputs": [],
   "source": [
    "vals = sc.parallelize([1,2,3])"
   ]
  },
  {
   "cell_type": "code",
   "execution_count": 13,
   "id": "9a645614-7432-4ccc-8831-eb316f24d138",
   "metadata": {
    "tags": []
   },
   "outputs": [
    {
     "data": {
      "text/plain": [
       "6"
      ]
     },
     "execution_count": 13,
     "metadata": {},
     "output_type": "execute_result"
    }
   ],
   "source": [
    "vals.sum()"
   ]
  },
  {
   "cell_type": "code",
   "execution_count": 90,
   "id": "acff4d02-3ed9-48c5-8d8f-3e544ca6c790",
   "metadata": {},
   "outputs": [],
   "source": [
    "spark_opts_cust_table = {\n",
    "    \"keyspace\": Config.keyspace,\n",
    "    \"table\": Config.table_customer\n",
    "}"
   ]
  },
  {
   "cell_type": "code",
   "execution_count": 91,
   "id": "d91f9c1c-e0f1-41d9-a7bb-5167a5c27159",
   "metadata": {
    "tags": []
   },
   "outputs": [],
   "source": [
    "df = spark.read.format(Config.cassandra_format) \\\n",
    "            .options(**spark_opts_cust_table, **hosts) \\\n",
    "            .load()"
   ]
  },
  {
   "cell_type": "code",
   "execution_count": 92,
   "id": "9b2fd6a9-c4d1-4852-ac9f-eb8c1ddc3d7d",
   "metadata": {
    "tags": []
   },
   "outputs": [
    {
     "name": "stdout",
     "output_type": "stream",
     "text": [
      "+------+----+---+-----+------+---+----+---+----+-----+------+---+\n",
      "|cc_num|city|dob|first|gender|job|last|lat|long|state|street|zip|\n",
      "+------+----+---+-----+------+---+----+---+----+-----+------+---+\n",
      "+------+----+---+-----+------+---+----+---+----+-----+------+---+\n",
      "\n"
     ]
    }
   ],
   "source": [
    "df.show(n=5)"
   ]
  },
  {
   "cell_type": "markdown",
   "id": "bf571486-15fe-4172-8e34-abcac08c7300",
   "metadata": {},
   "source": [
    "# Job 1: Import to Cassandra"
   ]
  },
  {
   "cell_type": "markdown",
   "id": "cac58eee-9082-47f7-b9c7-05b6981b4bb0",
   "metadata": {
    "jp-MarkdownHeadingCollapsed": true
   },
   "source": [
    "## Loading customer df to Cassandra"
   ]
  },
  {
   "cell_type": "code",
   "execution_count": 16,
   "id": "5e3720c0-a4c8-4da8-97ab-f99ae2ec1090",
   "metadata": {
    "scrolled": true
   },
   "outputs": [],
   "source": [
    "from schemas.structs import customer_schema"
   ]
  },
  {
   "cell_type": "code",
   "execution_count": 17,
   "id": "afba4983-4ce7-497b-9154-a2c1294a0dd5",
   "metadata": {
    "tags": []
   },
   "outputs": [],
   "source": [
    "customer_df = spark.read.csv(Config.path_customer, schema=customer_schema, header=True)"
   ]
  },
  {
   "cell_type": "code",
   "execution_count": 18,
   "id": "53226b28-91c7-4b77-b463-b5f23fec9b6a",
   "metadata": {},
   "outputs": [
    {
     "name": "stdout",
     "output_type": "stream",
     "text": [
      "+----------------+-------+--------+------+--------------------+--------------+-----+-----+-------+---------+--------------------+-------------------+\n",
      "|          cc_num|  first|    last|gender|              street|          city|state|  zip|    lat|     long|                 job|                dob|\n",
      "+----------------+-------+--------+------+--------------------+--------------+-----+-----+-------+---------+--------------------+-------------------+\n",
      "|3526015186182660|   Carl|   Gomez|     M|204 Cohen Meadow ...|Hathaway Pines|   CA|95233|38.1919|-120.3644|Data processing m...|1958-10-11 18:30:00|\n",
      "|4170242670039985|Rebecca|Trujillo|     F|       242 Cody Pass|      Colstrip|   MT|59323|45.9344|-106.6368|          Air broker|1983-08-08 18:30:00|\n",
      "|   4006862159277| Cheryl|    Rice|     F|0771 Solis Road A...|      Brooklyn|   NY|11228|40.6174| -74.0121|     Tourism officer|1957-07-23 18:30:00|\n",
      "|3593533875650654|  Cindy|     Ray|     F|     09110 Marie Run|        Oswego|   IL|60543|41.6849| -88.3453|Magazine features...|1994-12-23 18:30:00|\n",
      "|5421885738881170| Jeremy|  Torres|     M|   81823 Karen Haven|  Lewis Center|   OH|43035|40.1879| -82.9878|Designer, industr...|1995-11-05 18:30:00|\n",
      "+----------------+-------+--------+------+--------------------+--------------+-----+-----+-------+---------+--------------------+-------------------+\n",
      "only showing top 5 rows\n",
      "\n"
     ]
    }
   ],
   "source": [
    "customer_df.show(n=5)"
   ]
  },
  {
   "cell_type": "code",
   "execution_count": 52,
   "id": "eae80f5d-67cf-440b-8662-a61f8be6683c",
   "metadata": {},
   "outputs": [],
   "source": [
    "spark_opts_cust_table = {\n",
    "    \"keyspace\": Config.keyspace,\n",
    "    \"table\": Config.table_customer,\n",
    "    \"confirm.truncate\": True\n",
    "}"
   ]
  },
  {
   "cell_type": "code",
   "execution_count": 48,
   "id": "c7cc5b3e-8462-40a2-b9cf-121e34d7053a",
   "metadata": {},
   "outputs": [],
   "source": [
    "(\n",
    "    customer_df.write\n",
    "        .format(Config.cassandra_format)\n",
    "        .mode(\"overwrite\")\n",
    "        .options(**spark_opts_cust_table, **hosts)\n",
    "        .save()\n",
    ")"
   ]
  },
  {
   "cell_type": "code",
   "execution_count": 49,
   "id": "7a417918-3ec8-47f9-8693-0668dba1c94f",
   "metadata": {},
   "outputs": [
    {
     "name": "stdout",
     "output_type": "stream",
     "text": [
      "+---------------+-----------+-------------------+-------+------+--------------------+-------+-------+---------+-----+--------------------+-----+\n",
      "|         cc_num|       city|                dob|  first|gender|                 job|   last|    lat|     long|state|              street|  zip|\n",
      "+---------------+-----------+-------------------+-------+------+--------------------+-------+-------+---------+-----+--------------------+-----+\n",
      "|180036251237802|  Salt Lick|1956-07-19 18:30:00|Melissa|     F|Psychologist, for...|  James| 38.104| -83.6316|   KY|     537 Bryant Mall|40371|\n",
      "|   676165681542|      Salem|1954-07-03 18:30:00|   John|     M|Human resources o...| Garcia|44.9039|-123.0445|   OR|34153 Maria Mountain|97302|\n",
      "| 38535403302699|     London|1970-04-16 18:30:00|William|     M|Insurance risk su...|   Reed|39.9001| -83.4439|   OH|334 Adam Lodge Su...|43140|\n",
      "| 30157941709315|  Caledonia|1974-11-03 18:30:00|Maurice|     M|Hydrographic surv...|  Simon|43.6221| -91.4837|   MN|031 Jessica Harbo...|55921|\n",
      "|180094108369013|Zephyr Cove|1949-12-28 18:30:00|   John|     M|Geophysical data ...|Holland|39.0204|-119.9114|   NV|630 Christina Harbor|89448|\n",
      "+---------------+-----------+-------------------+-------+------+--------------------+-------+-------+---------+-----+--------------------+-----+\n",
      "only showing top 5 rows\n",
      "\n"
     ]
    }
   ],
   "source": [
    "(\n",
    "    spark.read\n",
    "        .format(Config.cassandra_format)\n",
    "        .options(**spark_opts_cust_table, **hosts)\n",
    "        .load()\n",
    "        .show(n=5)\n",
    ")"
   ]
  },
  {
   "cell_type": "markdown",
   "id": "ae6534fb-fd29-40e6-be2e-8724fb7956ae",
   "metadata": {
    "jp-MarkdownHeadingCollapsed": true
   },
   "source": [
    "## Loading fraud/non-fraud df to cassandra"
   ]
  },
  {
   "cell_type": "code",
   "execution_count": 41,
   "id": "d58c0346-e419-40f5-8c9e-40e87f6b7508",
   "metadata": {},
   "outputs": [],
   "source": [
    "from schemas.structs import fraud_transaction_schema\n",
    "from utils.general import get_haversine_distance_udf"
   ]
  },
  {
   "cell_type": "code",
   "execution_count": 34,
   "id": "da475412-abef-48bc-a715-0fb6ded10656",
   "metadata": {},
   "outputs": [],
   "source": [
    "transaction_df = (\n",
    "                    spark.read\n",
    "                        .csv(Config.path_transactions, schema=fraud_transaction_schema, header=True)\n",
    "                        .withColumn(\"trans_date\", F.split(\"trans_date\", \"T\").getItem(0))\n",
    "                        .withColumn(\"trans_time\", F.to_timestamp(F.concat_ws(\" \", \"trans_date\", \"trans_time\")))\n",
    "                )"
   ]
  },
  {
   "cell_type": "code",
   "execution_count": 35,
   "id": "5ad1a612-c39d-4894-a2c4-6092eadd799e",
   "metadata": {},
   "outputs": [
    {
     "name": "stdout",
     "output_type": "stream",
     "text": [
      "+----------------+-------+-------+--------------------+----------+-------------------+----------+-------------+--------------------+-----+---------+-----------+--------+\n",
      "|          cc_num|  first|   last|           trans_num|trans_date|         trans_time| unix_time|     category|            merchant|  amt|merch_lat| merch_long|is_fraud|\n",
      "+----------------+-------+-------+--------------------+----------+-------------------+----------+-------------+--------------------+-----+---------+-----------+--------+\n",
      "| 180094108369013|   John|Holland|80f5177be11f0bcd7...|2012-01-01|2012-01-01 00:12:15|1325376735|personal_care|         Hills-Boyer| 64.0|39.011566|-119.937831|     0.0|\n",
      "|4368593032190508|  Carla|Fleming|7933d389bf8ef8a11...|2012-01-01|2012-01-01 00:16:58|1325377018|gas_transport|      Friesen-DAmore|133.0|40.149071| -75.589697|     0.0|\n",
      "|   4361355512072|Matthew| Nelson|1467c318b5d73d22d...|2012-01-01|2012-01-01 00:36:42|1325378202|entertainment|         Larson-Moen|119.0|47.297797| -96.819362|     0.0|\n",
      "|4037295225657274|Antonio| Garcia|4a3848719d72daaa3...|2012-01-01|2012-01-01 00:37:59|1325378279| shopping_pos|           Lynch Ltd| 62.0|40.078781|-102.373954|     0.0|\n",
      "|4515092388857440|Timothy|  Silva|02d27e94f279e1013...|2012-01-01|2012-01-01 00:39:18|1325378358| shopping_pos|Baumbach, Strosin...|198.0|41.549359| -83.044403|     0.0|\n",
      "+----------------+-------+-------+--------------------+----------+-------------------+----------+-------------+--------------------+-----+---------+-----------+--------+\n",
      "only showing top 5 rows\n",
      "\n"
     ]
    }
   ],
   "source": [
    "transaction_df.show(n=5)"
   ]
  },
  {
   "cell_type": "code",
   "execution_count": 36,
   "id": "889c142c-cbe8-495b-b319-ff42e4f7c36b",
   "metadata": {},
   "outputs": [
    {
     "name": "stdout",
     "output_type": "stream",
     "text": [
      "root\n",
      " |-- cc_num: string (nullable = true)\n",
      " |-- first: string (nullable = true)\n",
      " |-- last: string (nullable = true)\n",
      " |-- trans_num: string (nullable = true)\n",
      " |-- trans_date: string (nullable = true)\n",
      " |-- trans_time: timestamp (nullable = true)\n",
      " |-- unix_time: long (nullable = true)\n",
      " |-- category: string (nullable = true)\n",
      " |-- merchant: string (nullable = true)\n",
      " |-- amt: double (nullable = true)\n",
      " |-- merch_lat: double (nullable = true)\n",
      " |-- merch_long: double (nullable = true)\n",
      " |-- is_fraud: double (nullable = true)\n",
      "\n"
     ]
    }
   ],
   "source": [
    "transaction_df.printSchema()"
   ]
  },
  {
   "cell_type": "code",
   "execution_count": 37,
   "id": "cbf8e877-51c0-4e7d-853d-b8026fc893a5",
   "metadata": {},
   "outputs": [],
   "source": [
    "customer_age_df = customer_df.withColumn(\"age\", (F.datediff(F.current_date(), F.to_date(\"dob\")) / 365).cast(T.IntegerType()))"
   ]
  },
  {
   "cell_type": "code",
   "execution_count": 38,
   "id": "73d15ee9-f715-44c1-8881-985c84252955",
   "metadata": {},
   "outputs": [
    {
     "name": "stdout",
     "output_type": "stream",
     "text": [
      "+----------------+-------+--------+------+--------------------+--------------+-----+-----+-------+---------+--------------------+-------------------+---+\n",
      "|          cc_num|  first|    last|gender|              street|          city|state|  zip|    lat|     long|                 job|                dob|age|\n",
      "+----------------+-------+--------+------+--------------------+--------------+-----+-----+-------+---------+--------------------+-------------------+---+\n",
      "|3526015186182660|   Carl|   Gomez|     M|204 Cohen Meadow ...|Hathaway Pines|   CA|95233|38.1919|-120.3644|Data processing m...|1958-10-11 18:30:00| 64|\n",
      "|4170242670039985|Rebecca|Trujillo|     F|       242 Cody Pass|      Colstrip|   MT|59323|45.9344|-106.6368|          Air broker|1983-08-08 18:30:00| 39|\n",
      "|   4006862159277| Cheryl|    Rice|     F|0771 Solis Road A...|      Brooklyn|   NY|11228|40.6174| -74.0121|     Tourism officer|1957-07-23 18:30:00| 65|\n",
      "+----------------+-------+--------+------+--------------------+--------------+-----+-----+-------+---------+--------------------+-------------------+---+\n",
      "only showing top 3 rows\n",
      "\n"
     ]
    }
   ],
   "source": [
    "customer_age_df.show(n=3)"
   ]
  },
  {
   "cell_type": "code",
   "execution_count": 43,
   "id": "0f4242c8-4f6f-4ba8-aafd-1c71b9a74441",
   "metadata": {},
   "outputs": [],
   "source": [
    "processed_df = (\n",
    "                transaction_df.join(F.broadcast(customer_age_df).alias(\"cust\"), \"cc_num\", how=\"inner\")\n",
    "                        .withColumn(\"distance\", F.round(get_haversine_distance_udf(\"cust.lat\", \"cust.long\", \"merch_lat\", \"merch_long\"), 2))\n",
    "                        .select(\"cc_num\", \"trans_num\", \"trans_time\", \"category\", \"merchant\", \"amt\", \"merch_lat\", \"merch_long\", \"distance\", \"age\", \"is_fraud\")\n",
    "            )"
   ]
  },
  {
   "cell_type": "code",
   "execution_count": 44,
   "id": "fd62f48b-2d39-4f3b-92f4-21cb659bb781",
   "metadata": {},
   "outputs": [
    {
     "name": "stdout",
     "output_type": "stream",
     "text": [
      "+----------------+--------------------+-------------------+-------------+--------------+-----+---------+-----------+--------+---+--------+\n",
      "|          cc_num|           trans_num|         trans_time|     category|      merchant|  amt|merch_lat| merch_long|distance|age|is_fraud|\n",
      "+----------------+--------------------+-------------------+-------------+--------------+-----+---------+-----------+--------+---+--------+\n",
      "| 180094108369013|80f5177be11f0bcd7...|2012-01-01 00:12:15|personal_care|   Hills-Boyer| 64.0|39.011566|-119.937831|    1.23| 73|     0.0|\n",
      "|4368593032190508|7933d389bf8ef8a11...|2012-01-01 00:16:58|gas_transport|Friesen-DAmore|133.0|40.149071| -75.589697|    3.51| 62|     0.0|\n",
      "+----------------+--------------------+-------------------+-------------+--------------+-----+---------+-----------+--------+---+--------+\n",
      "only showing top 2 rows\n",
      "\n"
     ]
    }
   ],
   "source": [
    "processed_df.show(n=2)"
   ]
  },
  {
   "cell_type": "code",
   "execution_count": 45,
   "id": "a21cd57f-ad9b-476e-9a6b-c4ecaac26756",
   "metadata": {},
   "outputs": [
    {
     "data": {
      "text/plain": [
       "DataFrame[cc_num: string, trans_num: string, trans_time: timestamp, category: string, merchant: string, amt: double, merch_lat: double, merch_long: double, distance: double, age: int, is_fraud: double]"
      ]
     },
     "execution_count": 45,
     "metadata": {},
     "output_type": "execute_result"
    }
   ],
   "source": [
    "processed_df.cache()"
   ]
  },
  {
   "cell_type": "code",
   "execution_count": 46,
   "id": "e484344a-3a9b-437c-83c7-6a5a97d4cb96",
   "metadata": {},
   "outputs": [],
   "source": [
    "fraud_df = processed_df.filter(F.col(\"is_fraud\") == 1)\n",
    "non_fraud_df = processed_df.filter(F.col(\"is_fraud\") == 0)"
   ]
  },
  {
   "cell_type": "code",
   "execution_count": 47,
   "id": "d04e8004-9736-4027-bf82-15facc411b05",
   "metadata": {},
   "outputs": [
    {
     "name": "stdout",
     "output_type": "stream",
     "text": [
      "+----------------+--------------------+-------------------+--------------+--------------+------+---------+-----------+--------+---+--------+\n",
      "|          cc_num|           trans_num|         trans_time|      category|      merchant|   amt|merch_lat| merch_long|distance|age|is_fraud|\n",
      "+----------------+--------------------+-------------------+--------------+--------------+------+---------+-----------+--------+---+--------+\n",
      "|5157436163845247|8e0299d3779108d4d...|2012-01-02 01:23:34|health_fitness|Dietrich-Fadel|1774.0|33.619662|-117.391852|  225.49| 32|     1.0|\n",
      "|5157436163845247|2fe127c95a68344e6...|2012-01-02 01:52:06|  shopping_pos|     Lynch Ltd|2013.0|34.570986| -118.71129|   89.74| 32|     1.0|\n",
      "|5157436163845247|80d10820173241448...|2012-01-02 02:00:37|  shopping_pos|  Hudson-Grady|1801.0|36.988153|-120.376765|  154.79| 32|     1.0|\n",
      "+----------------+--------------------+-------------------+--------------+--------------+------+---------+-----------+--------+---+--------+\n",
      "only showing top 3 rows\n",
      "\n"
     ]
    }
   ],
   "source": [
    "fraud_df.show(n=3)"
   ]
  },
  {
   "cell_type": "code",
   "execution_count": 54,
   "id": "f5e7cb78-c4e7-466d-8c82-7dee42be8522",
   "metadata": {},
   "outputs": [],
   "source": [
    "spark_opts_fraud_table = {\n",
    "    \"keyspace\": Config.keyspace,\n",
    "    \"table\": Config.table_fraud,\n",
    "    \"confirm.truncate\": True\n",
    "}"
   ]
  },
  {
   "cell_type": "code",
   "execution_count": 53,
   "id": "eb54969d-d598-437c-a53d-afe2df624470",
   "metadata": {},
   "outputs": [],
   "source": [
    "(\n",
    "    fraud_df.write\n",
    "        .format(Config.cassandra_format)\n",
    "        .mode(\"overwrite\")\n",
    "        .options(**spark_opts_fraud_table, **hosts)\n",
    "        .save()\n",
    ")"
   ]
  },
  {
   "cell_type": "code",
   "execution_count": 55,
   "id": "fde30ab7-d951-4043-8421-0d6f2d39e333",
   "metadata": {},
   "outputs": [],
   "source": [
    "spark_opts_non_fraud_table = {\n",
    "    \"keyspace\": Config.keyspace,\n",
    "    \"table\": Config.table_non_fraud,\n",
    "    \"confirm.truncate\": True\n",
    "}"
   ]
  },
  {
   "cell_type": "code",
   "execution_count": 56,
   "id": "6729ab16-319a-4c9c-9d73-beb8922d2482",
   "metadata": {},
   "outputs": [],
   "source": [
    "(\n",
    "    non_fraud_df.write\n",
    "        .format(Config.cassandra_format)\n",
    "        .mode(\"overwrite\")\n",
    "        .options(**spark_opts_non_fraud_table, **hosts)\n",
    "        .save()\n",
    ")"
   ]
  },
  {
   "cell_type": "code",
   "execution_count": 57,
   "id": "e20bc4b1-0aa8-4c33-93d4-1fb1f342e139",
   "metadata": {},
   "outputs": [
    {
     "name": "stdout",
     "output_type": "stream",
     "text": [
      "+---------------+-------------------+---+------+------------+--------+--------+---------+----------+--------------------+--------------------+\n",
      "|         cc_num|         trans_time|age|   amt|    category|distance|is_fraud|merch_lat|merch_long|            merchant|           trans_num|\n",
      "+---------------+-------------------+---+------+------------+--------+--------+---------+----------+--------------------+--------------------+\n",
      "|341559343212109|2012-01-17 23:36:55| 78|1082.0|shopping_net|    52.7|     1.0|39.810603|-88.442308|    Schmidt and Sons|4e8d75754e4e9b6df...|\n",
      "|341559343212109|2012-01-17 23:17:40| 78|1376.0| grocery_pos|  169.17|     1.0|37.921349|-86.744044|        Bailey-Morar|f154f3c85a0239b84...|\n",
      "|341559343212109|2012-01-17 23:09:48| 78| 248.0| grocery_pos|   152.7|     1.0|38.021388|-86.344542|           Kunze Inc|ff94e13997e34c06c...|\n",
      "|341559343212109|2012-01-17 22:41:58| 78| 998.0|shopping_net|   52.01|     1.0|38.990974|-87.871855|Reichert, Rowe an...|c11e2d86100c70885...|\n",
      "|341559343212109|2012-01-17 22:40:42| 78| 453.0|shopping_net|   88.43|     1.0|38.552937|-88.677281|Labadie, Treutel ...|972abd0518e61678c...|\n",
      "+---------------+-------------------+---+------+------------+--------+--------+---------+----------+--------------------+--------------------+\n",
      "only showing top 5 rows\n",
      "\n"
     ]
    }
   ],
   "source": [
    "(\n",
    "    spark.read\n",
    "        .format(Config.cassandra_format)\n",
    "        .options(**spark_opts_fraud_table, **hosts)\n",
    "        .load()\n",
    "        .show(n=5)\n",
    ")"
   ]
  },
  {
   "cell_type": "code",
   "execution_count": 58,
   "id": "918cd92a-849e-45b4-b3f9-ef94ab73f084",
   "metadata": {},
   "outputs": [
    {
     "name": "stdout",
     "output_type": "stream",
     "text": [
      "+--------------+-------------------+---+-----+-------------+--------+--------+---------+----------+--------------------+--------------------+\n",
      "|        cc_num|         trans_time|age|  amt|     category|distance|is_fraud|merch_lat|merch_long|            merchant|           trans_num|\n",
      "+--------------+-------------------+---+-----+-------------+--------+--------+---------+----------+--------------------+--------------------+\n",
      "|30157941709315|2012-02-01 05:05:11| 48|375.0|     misc_net|    0.65|     0.0|43.627917|-91.484569|      Flatley-Durgan|600e35d550f6046ce...|\n",
      "|30157941709315|2012-01-31 15:14:54| 48|357.0|entertainment|    1.94|     0.0|43.608473|-91.472015|Schaefer, Fay and...|c6ecaa2e1f29ee311...|\n",
      "|30157941709315|2012-01-30 21:51:14| 48|408.0|entertainment|    2.21|     0.0|43.637434| -91.49716|Parker, Nolan and...|bcc9e3c696ce6f154...|\n",
      "|30157941709315|2012-01-30 19:31:03| 48| 57.0|  food_dining|    0.94|     0.0|43.621082|-91.474712|        Leannon-Ward|27e66cdb5f564e756...|\n",
      "|30157941709315|2012-01-29 01:58:48| 48|132.0| shopping_pos|    1.35|     0.0|43.621281|-91.496626|      Jast-McDermott|fda27279d73388a10...|\n",
      "+--------------+-------------------+---+-----+-------------+--------+--------+---------+----------+--------------------+--------------------+\n",
      "only showing top 5 rows\n",
      "\n"
     ]
    }
   ],
   "source": [
    "(\n",
    "    spark.read\n",
    "        .format(Config.cassandra_format)\n",
    "        .options(**spark_opts_non_fraud_table, **hosts)\n",
    "        .load()\n",
    "        .show(n=5)\n",
    ")"
   ]
  },
  {
   "cell_type": "markdown",
   "id": "1cba4779-63ab-48e3-8681-9ea3003851e1",
   "metadata": {},
   "source": [
    "## Loading fraud/non-fraud df to cassandra (using package)"
   ]
  },
  {
   "cell_type": "code",
   "execution_count": 46,
   "id": "929695c9-3f33-4584-8b52-a3e6a7b1c2ed",
   "metadata": {},
   "outputs": [],
   "source": [
    "import importlib\n",
    "from main import parse_config, init_or_get_spark"
   ]
  },
  {
   "cell_type": "code",
   "execution_count": 47,
   "id": "ced8ef91-6b58-4b0b-b769-d4a2928a979d",
   "metadata": {},
   "outputs": [],
   "source": [
    "config_file = \"../src/configs/base_config.json\""
   ]
  },
  {
   "cell_type": "code",
   "execution_count": 48,
   "id": "a7585653-7f58-47e4-9998-1a8bf94a1461",
   "metadata": {},
   "outputs": [],
   "source": [
    "config = parse_config(config_file)"
   ]
  },
  {
   "cell_type": "code",
   "execution_count": 49,
   "id": "513487a5-514b-44ca-a62e-01f7e04ddac1",
   "metadata": {},
   "outputs": [
    {
     "data": {
      "text/plain": [
       "Config(spark=SparkConfig(app_name='fraud_detection', master='spark://spark-master:7077', jars='/usr/local/spark/jars/hadoop-aws-3.2.0.jar,/usr/local/spark/jars/aws-java-sdk-bundle-1.11.375.jar,/usr/local/spark/jars/spark-cassandra-connector-assembly_2.12-3.0.0.jar', exec_mem='480m', cassandra_format='org.apache.spark.sql.cassandra', cassandra_host='cassandra'), cassandra=CassandraConfig(keyspace='creditcard', table_customer='customer', table_fraud='fraud_transaction', table_non_fraud='non_fraud_transaction'), s3=S3Config(path_transactions='s3a://realtime-ml/data/raw/transactions.csv', path_customer='s3a://realtime-ml/data/raw/customer.csv', path_ml_artifacts='s3a://realtime-ml/ml_artifacts/'), ml=MLConfig(feature_cols=['cc_num', 'category', 'merchant', 'distance', 'amt', 'age'], train_pct=0.7, seed=123, feature_col_name='features', label_col_name='label', kmeans_extra_args={'maxIter': 30, 'seed': 123}, model_extra_args={'maxBins': 700, 'seed': 123}))"
      ]
     },
     "execution_count": 49,
     "metadata": {},
     "output_type": "execute_result"
    }
   ],
   "source": [
    "config"
   ]
  },
  {
   "cell_type": "code",
   "execution_count": 50,
   "id": "a0812002-a19b-45b7-9d41-d552791ecd4f",
   "metadata": {},
   "outputs": [
    {
     "data": {
      "text/plain": [
       "'9d024f2b89d44f768f3d33872e2656ef'"
      ]
     },
     "execution_count": 50,
     "metadata": {},
     "output_type": "execute_result"
    }
   ],
   "source": [
    "config.run_id"
   ]
  },
  {
   "cell_type": "code",
   "execution_count": 17,
   "id": "29403fdb-946a-4961-b57f-9a52a22b5cef",
   "metadata": {},
   "outputs": [
    {
     "data": {
      "text/html": [
       "\n",
       "            <div>\n",
       "                <p><b>SparkSession - in-memory</b></p>\n",
       "                \n",
       "        <div>\n",
       "            <p><b>SparkContext</b></p>\n",
       "\n",
       "            <p><a href=\"http://584c35c8a930:4040\">Spark UI</a></p>\n",
       "\n",
       "            <dl>\n",
       "              <dt>Version</dt>\n",
       "                <dd><code>v3.0.2</code></dd>\n",
       "              <dt>Master</dt>\n",
       "                <dd><code>spark://spark-master:7077</code></dd>\n",
       "              <dt>AppName</dt>\n",
       "                <dd><code>pyspark-notebook</code></dd>\n",
       "            </dl>\n",
       "        </div>\n",
       "        \n",
       "            </div>\n",
       "        "
      ],
      "text/plain": [
       "<pyspark.sql.session.SparkSession at 0x7f282731d210>"
      ]
     },
     "execution_count": 17,
     "metadata": {},
     "output_type": "execute_result"
    }
   ],
   "source": [
    "spark"
   ]
  },
  {
   "cell_type": "code",
   "execution_count": 18,
   "id": "4cd5d30b-26e1-4983-ba57-3b6fe1d01ac5",
   "metadata": {},
   "outputs": [],
   "source": [
    "job_name = \"import_to_cassandra\""
   ]
  },
  {
   "cell_type": "code",
   "execution_count": 19,
   "id": "519db31c-5508-4b74-af85-09ac118cf379",
   "metadata": {},
   "outputs": [
    {
     "name": "stdout",
     "output_type": "stream",
     "text": [
      "============================== Setting up Job: ImportToCassandra ==============================\n",
      "============================== Running Job: ImportToCassandra ==============================\n"
     ]
    }
   ],
   "source": [
    "job_module = importlib.import_module(f\"jobs.{job_name}.entrypoint\")\n",
    "getattr(job_module, \"run\")(spark, config)"
   ]
  },
  {
   "cell_type": "markdown",
   "id": "7752e7fb-7564-4e3b-b358-d4fbc999c561",
   "metadata": {},
   "source": [
    "# Job 2: Fraud Detection Training"
   ]
  },
  {
   "cell_type": "code",
   "execution_count": 40,
   "id": "c0e33ff9-da85-47ff-9ab6-452f8b71622f",
   "metadata": {},
   "outputs": [],
   "source": [
    "job_name = \"fraud_detection_training\""
   ]
  },
  {
   "cell_type": "code",
   "execution_count": 41,
   "id": "4a79e66b-aa5b-41f9-b0bc-29e19250c917",
   "metadata": {},
   "outputs": [],
   "source": [
    "import numpy as np\n",
    "np.random.seed(1111)"
   ]
  },
  {
   "cell_type": "code",
   "execution_count": 51,
   "id": "62cdb9f4-fc1e-46c1-89d6-959e9599d804",
   "metadata": {},
   "outputs": [
    {
     "name": "stdout",
     "output_type": "stream",
     "text": [
      "============================== Setting up Job: FraudDetectionTraining ==============================\n",
      "============================== Running Job: FraudDetectionTraining ==============================\n",
      "{'maxIter': 30, 'seed': 123}\n",
      "{'maxBins': 700, 'seed': 123}\n",
      "0.9997526339502256\n"
     ]
    }
   ],
   "source": [
    "job_module = importlib.import_module(f\"jobs.{job_name}.entrypoint\")\n",
    "getattr(job_module, \"run\")(spark, config)"
   ]
  },
  {
   "cell_type": "code",
   "execution_count": 26,
   "id": "22ac17ba-e633-4cae-8ff2-f8641a638016",
   "metadata": {},
   "outputs": [
    {
     "name": "stdout",
     "output_type": "stream",
     "text": [
      "============================== Setting up Job: FraudDetectionTraining ==============================\n",
      "============================== Running Job: FraudDetectionTraining ==============================\n",
      "{'maxIter': 30, 'seed': 123}\n",
      "{'maxBins': 700, 'seed': 123}\n",
      "0.9995154474091957\n"
     ]
    }
   ],
   "source": [
    "job_module = importlib.import_module(f\"jobs.{job_name}.entrypoint\")\n",
    "getattr(job_module, \"run\")(spark, config)"
   ]
  },
  {
   "cell_type": "code",
   "execution_count": 27,
   "id": "bcd3b853-26f4-49f5-918c-7226a0b0d916",
   "metadata": {},
   "outputs": [
    {
     "name": "stdout",
     "output_type": "stream",
     "text": [
      "============================== Setting up Job: FraudDetectionTraining ==============================\n",
      "============================== Running Job: FraudDetectionTraining ==============================\n",
      "{'maxIter': 30, 'seed': 123}\n",
      "{'maxBins': 700, 'seed': 123}\n",
      "0.9884113299530023\n"
     ]
    }
   ],
   "source": [
    "job_module = importlib.import_module(f\"jobs.{job_name}.entrypoint\")\n",
    "getattr(job_module, \"run\")(spark, config)"
   ]
  },
  {
   "cell_type": "code",
   "execution_count": null,
   "id": "074cae3e-05d1-4a39-9a8e-a4bb579623b9",
   "metadata": {},
   "outputs": [],
   "source": []
  }
 ],
 "metadata": {
  "kernelspec": {
   "display_name": "python37",
   "language": "python",
   "name": "python37"
  },
  "language_info": {
   "codemirror_mode": {
    "name": "ipython",
    "version": 3
   },
   "file_extension": ".py",
   "mimetype": "text/x-python",
   "name": "python",
   "nbconvert_exporter": "python",
   "pygments_lexer": "ipython3",
   "version": "3.7.12"
  }
 },
 "nbformat": 4,
 "nbformat_minor": 5
}

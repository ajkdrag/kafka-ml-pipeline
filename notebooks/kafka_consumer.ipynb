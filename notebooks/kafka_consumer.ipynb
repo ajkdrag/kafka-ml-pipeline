{
 "cells": [
  {
   "cell_type": "code",
   "execution_count": 1,
   "id": "ff67b9bc-9049-4a13-8ad2-a603ca89404b",
   "metadata": {},
   "outputs": [],
   "source": [
    "import json"
   ]
  },
  {
   "cell_type": "code",
   "execution_count": 24,
   "id": "8793dc94-8802-41e3-9c04-9af722623185",
   "metadata": {},
   "outputs": [],
   "source": [
    "from kafka import KafkaConsumer\n",
    "\n",
    "# To consume latest messages and auto-commit offsets\n",
    "consumer = KafkaConsumer('realtime-ml',\n",
    "                         group_id=None,\n",
    "                         bootstrap_servers=['broker:29092'],\n",
    "                         consumer_timeout_ms=2000,\n",
    "                         value_deserializer=lambda m: json.loads(m.decode('ascii')))"
   ]
  },
  {
   "cell_type": "code",
   "execution_count": 26,
   "id": "b272584d-1f9c-4b91-980d-065233dc5905",
   "metadata": {},
   "outputs": [
    {
     "name": "stdout",
     "output_type": "stream",
     "text": [
      "realtime-ml:0:10: key=None value={'cc_num': 'cc_num', 'first': 'first', 'last': 'last', 'trans_num': 'trans_num', 'trans_time': '2023-07-13 16:34:59.554719', 'category': 'unix_time', 'merchant': 'category', 'amt': 'merchant', 'merch_lat': 'amt', 'merch_long': 'merch_lat', 'distance': 'merch_long', 'age': 'is_fraud'}\n",
      "realtime-ml:0:11: key=None value={'cc_num': '180094108369013', 'first': 'John', 'last': 'Holland', 'trans_num': '80f5177be11f0bcd768e06a0b1b294c8', 'trans_time': '2023-07-13 16:34:59.555277', 'category': '1325376735', 'merchant': 'personal_care', 'amt': 'Hills-Boyer', 'merch_lat': '64', 'merch_long': '39.011566', 'distance': '-119.937831', 'age': '0'}\n",
      "realtime-ml:0:12: key=None value={'cc_num': '4368593032190508', 'first': 'Carla', 'last': 'Fleming', 'trans_num': '7933d389bf8ef8a11a8a301da6e6bc6c', 'trans_time': '2023-07-13 16:34:59.555490', 'category': '1325377018', 'merchant': 'gas_transport', 'amt': 'Friesen-DAmore', 'merch_lat': '133', 'merch_long': '40.149071', 'distance': '-75.589697', 'age': '0'}\n",
      "realtime-ml:0:13: key=None value={'cc_num': '4361355512072', 'first': 'Matthew', 'last': 'Nelson', 'trans_num': '1467c318b5d73d22d6741f575db42f3f', 'trans_time': '2023-07-13 16:34:59.556504', 'category': '1325378202', 'merchant': 'entertainment', 'amt': 'Larson-Moen', 'merch_lat': '119', 'merch_long': '47.297797', 'distance': '-96.819362', 'age': '0'}\n",
      "realtime-ml:0:14: key=None value={'cc_num': '4037295225657274', 'first': 'Antonio', 'last': 'Garcia', 'trans_num': '4a3848719d72daaa32c938ce43e0eb03', 'trans_time': '2023-07-13 16:34:59.557247', 'category': '1325378279', 'merchant': 'shopping_pos', 'amt': 'Lynch Ltd', 'merch_lat': '62', 'merch_long': '40.078781', 'distance': '-102.373954', 'age': '0'}\n",
      "realtime-ml:0:15: key=None value={'cc_num': '4515092388857440', 'first': 'Timothy', 'last': 'Silva', 'trans_num': '02d27e94f279e1013a4c323eb8bb6811', 'trans_time': '2023-07-13 16:34:59.557429', 'category': '1325378358', 'merchant': 'shopping_pos', 'amt': '\"Baumbach', 'merch_lat': ' Strosin and Nicolas\"', 'merch_long': '198', 'distance': '41.549359', 'age': '-83.044403'}\n",
      "realtime-ml:0:16: key=None value={'cc_num': '4037295225657274', 'first': 'Antonio', 'last': 'Garcia', 'trans_num': '9d88e9ebbc31b218c192086fbfe9dd5e', 'trans_time': '2023-07-13 16:34:59.557981', 'category': '1325379228', 'merchant': 'shopping_pos', 'amt': '\"Nitzsche', 'merch_lat': ' Kessler and Wolff\"', 'merch_long': '176', 'distance': '40.078255', 'age': '-102.402743'}\n",
      "realtime-ml:0:17: key=None value={'cc_num': '4368593032190508', 'first': 'Carla', 'last': 'Fleming', 'trans_num': '9e3ee495dee3ac4577269c93c60fe0a4', 'trans_time': '2023-07-13 16:34:59.558202', 'category': '1325381126', 'merchant': 'health_fitness', 'amt': '\"Klocko', 'merch_lat': ' Runolfsdottir and Breitenberg\"', 'merch_long': '229', 'distance': '40.203391', 'age': '-75.552377'}\n",
      "realtime-ml:0:18: key=None value={'cc_num': '370763211656868', 'first': 'Jeffrey', 'last': 'Garza', 'trans_num': '662830b8b761f71f9689561b6693b5e3', 'trans_time': '2023-07-13 16:34:59.559599', 'category': '1325381961', 'merchant': 'grocery_net', 'amt': '\"Swift', 'merch_lat': ' Bradtke and Marquardt\"', 'merch_long': '141', 'distance': '41.883148', 'age': '-87.623171'}\n",
      "realtime-ml:0:19: key=None value={'cc_num': '38535403302699', 'first': 'William', 'last': 'Reed', 'trans_num': '767d7b2ae75fe076e4b570b1e34092f2', 'trans_time': '2023-07-13 16:34:59.559880', 'category': '1325382536', 'merchant': 'health_fitness', 'amt': '\"Torp', 'merch_lat': ' Muller and Borer\"', 'merch_long': '122', 'distance': '39.922784', 'age': '-83.450302'}\n",
      "realtime-ml:0:20: key=None value={'cc_num': '180094108369013', 'first': 'John', 'last': 'Holland', 'trans_num': 'c1ad7a1b73172ef67bd24820438f3f93', 'trans_time': '2023-07-13 16:34:59.560143', 'category': '1325382672', 'merchant': 'travel', 'amt': 'Satterfield-Lowe', 'merch_lat': '81', 'merch_long': '39.015861', 'distance': '-119.883595', 'age': '0'}\n"
     ]
    }
   ],
   "source": [
    "for message in consumer:\n",
    "    # message value and key are raw bytes -- decode if necessary!\n",
    "    # e.g., for unicode: `message.value.decode('utf-8')`\n",
    "    print (\"%s:%d:%d: key=%s value=%s\" % (message.topic, message.partition,\n",
    "                                          message.offset, message.key,\n",
    "                                          message.value))"
   ]
  },
  {
   "cell_type": "code",
   "execution_count": 10,
   "id": "35900b08-7015-4447-a267-b485ce7e55a0",
   "metadata": {},
   "outputs": [
    {
     "name": "stdout",
     "output_type": "stream",
     "text": [
      "spark-kafka-source-a3a2d76c-72cb-4a41-9e02-132a5f47c469-1220052872-driver-0\n"
     ]
    }
   ],
   "source": [
    "from kafka import KafkaAdminClient\n",
    "client = KafkaAdminClient(bootstrap_servers=\"broker:29092\")\n",
    "for group in client.list_consumer_groups():\n",
    "    print(group[0])"
   ]
  },
  {
   "cell_type": "code",
   "execution_count": 41,
   "id": "8dc35a26-b466-4292-aba0-78d004ffcf42",
   "metadata": {},
   "outputs": [
    {
     "data": {
      "text/plain": [
       "DeleteTopicsResponse_v3(throttle_time_ms=0, topic_error_codes=[(topic='test-topic2', error_code=0)])"
      ]
     },
     "execution_count": 41,
     "metadata": {},
     "output_type": "execute_result"
    }
   ],
   "source": [
    "from kafka import KafkaAdminClient\n",
    "\n",
    "\n",
    "admin_client = KafkaAdminClient(bootstrap_servers=['broker:29092'])\n",
    "admin_client.delete_topics(topics=['test-topic2'])"
   ]
  },
  {
   "cell_type": "code",
   "execution_count": null,
   "id": "8db4f95b-397c-4186-bbab-f644fb6fa16f",
   "metadata": {},
   "outputs": [],
   "source": []
  }
 ],
 "metadata": {
  "kernelspec": {
   "display_name": "Python 3 (ipykernel)",
   "language": "python",
   "name": "python3"
  },
  "language_info": {
   "codemirror_mode": {
    "name": "ipython",
    "version": 3
   },
   "file_extension": ".py",
   "mimetype": "text/x-python",
   "name": "python",
   "nbconvert_exporter": "python",
   "pygments_lexer": "ipython3",
   "version": "3.11.4"
  }
 },
 "nbformat": 4,
 "nbformat_minor": 5
}

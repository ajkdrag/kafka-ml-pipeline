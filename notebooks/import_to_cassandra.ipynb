{
 "cells": [
  {
   "cell_type": "markdown",
   "id": "8e242ed9-6235-4e45-9dcb-7a4e2efc1a3f",
   "metadata": {},
   "source": [
    "# setup"
   ]
  },
  {
   "cell_type": "code",
   "execution_count": 1,
   "id": "53a53d74-1a77-4079-a257-7136b4e1f364",
   "metadata": {
    "tags": []
   },
   "outputs": [],
   "source": [
    "import os\n",
    "from pyspark.sql import SparkSession"
   ]
  },
  {
   "cell_type": "code",
   "execution_count": 2,
   "id": "c00108ab-6572-4266-ae03-053026d81c4d",
   "metadata": {
    "tags": []
   },
   "outputs": [],
   "source": [
    "jars = [\n",
    "    \"/usr/local/spark/jars/hadoop-aws-3.2.0.jar\",\n",
    "    \"/usr/local/spark/jars/aws-java-sdk-bundle-1.11.375.jar\",\n",
    "    \"/usr/local/spark/jars/spark-cassandra-connector-assembly_2.12-3.0.0.jar\"\n",
    "]"
   ]
  },
  {
   "cell_type": "code",
   "execution_count": 3,
   "id": "2f6c3442-a88d-44f8-b64a-412f0a4d5d00",
   "metadata": {
    "tags": []
   },
   "outputs": [],
   "source": [
    "spark = SparkSession.\\\n",
    "        builder.\\\n",
    "        appName(\"pyspark-notebook\").\\\n",
    "        master(\"spark://spark-master:7077\").\\\n",
    "        config(\"spark.executor.memory\", \"480m\").\\\n",
    "        config(\"spark.jars\", \",\".join(jars)).\\\n",
    "        getOrCreate()"
   ]
  },
  {
   "cell_type": "code",
   "execution_count": 4,
   "id": "43ce6244-2f11-44cf-9357-2a2e7174ea1f",
   "metadata": {
    "tags": []
   },
   "outputs": [],
   "source": [
    "sc = spark.sparkContext"
   ]
  },
  {
   "cell_type": "code",
   "execution_count": 5,
   "id": "ffcf085c-fc28-42bf-b451-a476ac5c1bb6",
   "metadata": {
    "tags": []
   },
   "outputs": [],
   "source": [
    "sc._jsc.hadoopConfiguration().set(\"fs.s3a.endpoint\", \"http://minio:9000\")\n",
    "sc._jsc.hadoopConfiguration().set(\"fs.s3a.access.key\", os.environ[\"AWS_ACCESS_KEY_ID\"])\n",
    "sc._jsc.hadoopConfiguration().set(\"fs.s3a.secret.key\", os.environ[\"AWS_SECRET_ACCESS_KEY\"])\n",
    "sc._jsc.hadoopConfiguration().set(\"fs.s3a.path.style.access\", \"true\")\n",
    "sc._jsc.hadoopConfiguration().set(\"spark.hadoop.fs.s3a.impl\", \"org.apache.hadoop.fs.s3a.S3AFileSystem\")\n",
    "sc._jsc.hadoopConfiguration().set(\"spark.hadoop.fs.s3a.connection.ssl.enabled\", \"false\")"
   ]
  },
  {
   "cell_type": "code",
   "execution_count": 6,
   "id": "35decbbb-1069-48ae-84ad-6af6c6ff7897",
   "metadata": {
    "tags": []
   },
   "outputs": [
    {
     "data": {
      "text/html": [
       "\n",
       "            <div>\n",
       "                <p><b>SparkSession - in-memory</b></p>\n",
       "                \n",
       "        <div>\n",
       "            <p><b>SparkContext</b></p>\n",
       "\n",
       "            <p><a href=\"http://68d1b17af239:4040\">Spark UI</a></p>\n",
       "\n",
       "            <dl>\n",
       "              <dt>Version</dt>\n",
       "                <dd><code>v3.0.2</code></dd>\n",
       "              <dt>Master</dt>\n",
       "                <dd><code>spark://spark-master:7077</code></dd>\n",
       "              <dt>AppName</dt>\n",
       "                <dd><code>pyspark-notebook</code></dd>\n",
       "            </dl>\n",
       "        </div>\n",
       "        \n",
       "            </div>\n",
       "        "
      ],
      "text/plain": [
       "<pyspark.sql.session.SparkSession at 0x7f9ff46e5750>"
      ]
     },
     "execution_count": 6,
     "metadata": {},
     "output_type": "execute_result"
    }
   ],
   "source": [
    "spark"
   ]
  },
  {
   "cell_type": "code",
   "execution_count": 11,
   "id": "1f0291db-78b2-47ed-bc75-1c83ced14e2b",
   "metadata": {
    "tags": []
   },
   "outputs": [],
   "source": [
    "vals = sc.parallelize([1,2,3])"
   ]
  },
  {
   "cell_type": "code",
   "execution_count": 12,
   "id": "9a645614-7432-4ccc-8831-eb316f24d138",
   "metadata": {
    "tags": []
   },
   "outputs": [
    {
     "data": {
      "text/plain": [
       "6"
      ]
     },
     "execution_count": 12,
     "metadata": {},
     "output_type": "execute_result"
    }
   ],
   "source": [
    "vals.sum()"
   ]
  },
  {
   "cell_type": "code",
   "execution_count": 13,
   "id": "6d2020db-29da-41f6-a3f8-0374e9307835",
   "metadata": {
    "tags": []
   },
   "outputs": [],
   "source": [
    "hosts = {\"spark.cassandra.connection.host\": 'cassandra'}"
   ]
  },
  {
   "cell_type": "code",
   "execution_count": 14,
   "id": "d91f9c1c-e0f1-41d9-a7bb-5167a5c27159",
   "metadata": {
    "tags": []
   },
   "outputs": [],
   "source": [
    "df = spark.read.format(\"org.apache.spark.sql.cassandra\")\\\n",
    "   .options(table=\"students\", keyspace=\"dummy\").options(**hosts).load()"
   ]
  },
  {
   "cell_type": "code",
   "execution_count": 16,
   "id": "9b2fd6a9-c4d1-4852-ac9f-eb8c1ddc3d7d",
   "metadata": {
    "tags": []
   },
   "outputs": [
    {
     "name": "stdout",
     "output_type": "stream",
     "text": [
      "+---+----+\n",
      "|idx|name|\n",
      "+---+----+\n",
      "|  1|  AJ|\n",
      "+---+----+\n",
      "\n"
     ]
    }
   ],
   "source": [
    "df.show()"
   ]
  },
  {
   "cell_type": "markdown",
   "id": "4990b96c-4906-4f63-bc63-b84d6a6dd9a9",
   "metadata": {},
   "source": [
    "## functions"
   ]
  },
  {
   "cell_type": "code",
   "execution_count": 17,
   "id": "aae2aef3-86ab-428a-9e0d-334d2be6d916",
   "metadata": {
    "tags": []
   },
   "outputs": [],
   "source": [
    "class Config:\n",
    "    path_transactions = \"s3a://realtime-ml/data/raw/transactions.csv\"\n",
    "    path_customer = \"s3a://realtime-ml/data/raw/customer.csv\"\n",
    "    table_customer = \"\"\n",
    "    table_fraud = \"\"\n",
    "    table_non_fraud = \"\"\n",
    "    keyspace = \"\""
   ]
  },
  {
   "cell_type": "code",
   "execution_count": 18,
   "id": "01247816-995c-4a1c-9034-958d9621d33b",
   "metadata": {
    "tags": []
   },
   "outputs": [],
   "source": [
    "transactions_df = spark.read.csv(Config.path_transactions, header=True, inferSchema=True)"
   ]
  },
  {
   "cell_type": "code",
   "execution_count": 19,
   "id": "afba4983-4ce7-497b-9154-a2c1294a0dd5",
   "metadata": {
    "tags": []
   },
   "outputs": [],
   "source": [
    "customer_df = spark.read.csv(Config.path_customer, header=True, inferSchema=True)"
   ]
  },
  {
   "cell_type": "markdown",
   "id": "dac12a14-c4b7-4785-88a2-aa21ae7e8d5c",
   "metadata": {},
   "source": [
    "### customer df to cassandra"
   ]
  },
  {
   "cell_type": "code",
   "execution_count": null,
   "id": "eae80f5d-67cf-440b-8662-a61f8be6683c",
   "metadata": {},
   "outputs": [],
   "source": [
    "spark_opts_cust_table = {\n",
    "    \"keyspace\": \"\",\n",
    "    \"table\": \"\"\n",
    "}"
   ]
  },
  {
   "cell_type": "code",
   "execution_count": null,
   "id": "c7cc5b3e-8462-40a2-b9cf-121e34d7053a",
   "metadata": {},
   "outputs": [],
   "source": [
    "customerDF.write\n",
    "      .format(\"org.apache.spark.sql.cassandra\")\n",
    "      .mode(\"append\")\n",
    "      .options({\"keyspace\": \"\", \"table\": \"\"})\n",
    "      .save()"
   ]
  }
 ],
 "metadata": {
  "kernelspec": {
   "display_name": "python37",
   "language": "python",
   "name": "python37"
  },
  "language_info": {
   "codemirror_mode": {
    "name": "ipython",
    "version": 3
   },
   "file_extension": ".py",
   "mimetype": "text/x-python",
   "name": "python",
   "nbconvert_exporter": "python",
   "pygments_lexer": "ipython3",
   "version": "3.7.12"
  }
 },
 "nbformat": 4,
 "nbformat_minor": 5
}

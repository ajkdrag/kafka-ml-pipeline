{
 "cells": [
  {
   "cell_type": "code",
   "execution_count": 1,
   "id": "4ddf5bce-bf66-43d8-a104-2f0da48c8ab7",
   "metadata": {},
   "outputs": [],
   "source": [
    "import sys"
   ]
  },
  {
   "cell_type": "code",
   "execution_count": 2,
   "id": "55c2bae9-299b-4197-b39e-3d7978f14dd3",
   "metadata": {},
   "outputs": [],
   "source": [
    "!{sys.executable} -m pip install -qU kafka-python"
   ]
  },
  {
   "cell_type": "code",
   "execution_count": 2,
   "id": "0974e710-e365-4c93-8df1-90b66b9f2db4",
   "metadata": {},
   "outputs": [],
   "source": [
    "import json\n",
    "from kafka import KafkaProducer\n",
    "from kafka.admin import KafkaAdminClient, NewTopic\n",
    "from kafka.errors import KafkaError"
   ]
  },
  {
   "cell_type": "code",
   "execution_count": 32,
   "id": "ab0ec532-9f73-411b-98fd-4dc80897fde3",
   "metadata": {},
   "outputs": [],
   "source": [
    "# produce json messages\n",
    "producer = KafkaProducer(\n",
    "    bootstrap_servers=['broker:29092'],\n",
    "    value_serializer=lambda m: json.dumps(m).encode('ascii'))"
   ]
  },
  {
   "cell_type": "code",
   "execution_count": 37,
   "id": "e261bff7-b716-4268-ae62-2acf6a37549a",
   "metadata": {},
   "outputs": [],
   "source": [
    "def on_send_success(record_metadata):\n",
    "    print(record_metadata.topic)\n",
    "    print(record_metadata.partition)\n",
    "    print(record_metadata.offset)\n",
    "\n",
    "def on_send_error(excp):\n",
    "    print('I am an errback', exc_info=excp)"
   ]
  },
  {
   "cell_type": "code",
   "execution_count": 39,
   "id": "69d64347-8678-4c5f-be7f-b7af74701056",
   "metadata": {},
   "outputs": [
    {
     "name": "stdout",
     "output_type": "stream",
     "text": [
      "test-topic2\n",
      "0\n",
      "10\n",
      "test-topic2\n",
      "0\n",
      "11\n",
      "test-topic2\n",
      "0\n",
      "12\n",
      "test-topic2\n",
      "0\n",
      "13\n",
      "test-topic2\n",
      "0\n",
      "14\n",
      "test-topic2\n",
      "0\n",
      "15\n",
      "test-topic2\n",
      "0\n",
      "16\n",
      "test-topic2\n",
      "0\n",
      "17\n",
      "test-topic2\n",
      "0\n",
      "18\n",
      "test-topic2\n",
      "0\n",
      "19\n"
     ]
    }
   ],
   "source": [
    "for idx in range(10):\n",
    "    producer.send('test-topic2', {'test-key1': idx}).add_callback(on_send_success).add_errback(on_send_error)"
   ]
  },
  {
   "cell_type": "code",
   "execution_count": 40,
   "id": "ed673519-85b9-4d2c-8dba-e3bb10e53f5a",
   "metadata": {},
   "outputs": [],
   "source": [
    "producer.flush()"
   ]
  },
  {
   "cell_type": "code",
   "execution_count": null,
   "id": "fba8fbad-af6a-47dc-b69f-8d83eaf6a6ab",
   "metadata": {},
   "outputs": [],
   "source": []
  }
 ],
 "metadata": {
  "kernelspec": {
   "display_name": "Python 3 (ipykernel)",
   "language": "python",
   "name": "python3"
  },
  "language_info": {
   "codemirror_mode": {
    "name": "ipython",
    "version": 3
   },
   "file_extension": ".py",
   "mimetype": "text/x-python",
   "name": "python",
   "nbconvert_exporter": "python",
   "pygments_lexer": "ipython3",
   "version": "3.11.4"
  }
 },
 "nbformat": 4,
 "nbformat_minor": 5
}

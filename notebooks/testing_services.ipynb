{
 "cells": [
  {
   "cell_type": "code",
   "execution_count": 1,
   "id": "ef29e776",
   "metadata": {
    "tags": []
   },
   "outputs": [],
   "source": [
    "from pyspark.sql import SparkSession"
   ]
  },
  {
   "cell_type": "code",
   "execution_count": 2,
   "id": "4e1e1767-56b4-4e50-a3a5-6bca1df5b6d8",
   "metadata": {
    "tags": []
   },
   "outputs": [],
   "source": [
    "jars = [\n",
    "    \"/usr/local/spark/jars/hadoop-aws-3.2.0.jar\",\n",
    "    \"/usr/local/spark/jars/aws-java-sdk-bundle-1.11.375.jar\",\n",
    "    \"/usr/local/spark/jars/spark-cassandra-connector-assembly_2.12-3.0.0.jar\"\n",
    "]"
   ]
  },
  {
   "cell_type": "code",
   "execution_count": 3,
   "id": "779399a5",
   "metadata": {
    "tags": []
   },
   "outputs": [],
   "source": [
    "spark = SparkSession.\\\n",
    "        builder.\\\n",
    "        appName(\"pyspark-notebook\").\\\n",
    "        master(\"spark://spark-master:7077\").\\\n",
    "        config(\"spark.executor.memory\", \"480m\").\\\n",
    "        config(\"spark.jars\", \",\".join(jars)).\\\n",
    "        getOrCreate()"
   ]
  },
  {
   "cell_type": "code",
   "execution_count": 4,
   "id": "1f177094-43aa-42ce-80e5-319766cda0e5",
   "metadata": {
    "tags": []
   },
   "outputs": [
    {
     "data": {
      "text/html": [
       "\n",
       "            <div>\n",
       "                <p><b>SparkSession - in-memory</b></p>\n",
       "                \n",
       "        <div>\n",
       "            <p><b>SparkContext</b></p>\n",
       "\n",
       "            <p><a href=\"http://68d1b17af239:4040\">Spark UI</a></p>\n",
       "\n",
       "            <dl>\n",
       "              <dt>Version</dt>\n",
       "                <dd><code>v3.0.2</code></dd>\n",
       "              <dt>Master</dt>\n",
       "                <dd><code>spark://spark-master:7077</code></dd>\n",
       "              <dt>AppName</dt>\n",
       "                <dd><code>pyspark-notebook</code></dd>\n",
       "            </dl>\n",
       "        </div>\n",
       "        \n",
       "            </div>\n",
       "        "
      ],
      "text/plain": [
       "<pyspark.sql.session.SparkSession at 0x7fef742af0d0>"
      ]
     },
     "execution_count": 4,
     "metadata": {},
     "output_type": "execute_result"
    }
   ],
   "source": [
    "spark"
   ]
  },
  {
   "cell_type": "markdown",
   "id": "278afd9c-09f3-418f-b224-64c8143813af",
   "metadata": {},
   "source": [
    "## conf for minio"
   ]
  },
  {
   "cell_type": "code",
   "execution_count": 5,
   "id": "d3c021be-c7e6-4f30-87fd-61f573cbd0f6",
   "metadata": {
    "tags": []
   },
   "outputs": [],
   "source": [
    "import os"
   ]
  },
  {
   "cell_type": "code",
   "execution_count": 6,
   "id": "4f768e84-120d-49f1-a813-aad2d3361d03",
   "metadata": {},
   "outputs": [],
   "source": [
    "sc = spark.sparkContext"
   ]
  },
  {
   "cell_type": "code",
   "execution_count": 7,
   "id": "d3fa472d-74f7-483d-b328-68fcd0731bf6",
   "metadata": {
    "tags": []
   },
   "outputs": [],
   "source": [
    "sc._jsc.hadoopConfiguration().set(\"fs.s3a.endpoint\", \"http://minio:9000\")\n",
    "sc._jsc.hadoopConfiguration().set(\"fs.s3a.access.key\", os.environ[\"AWS_ACCESS_KEY_ID\"])\n",
    "sc._jsc.hadoopConfiguration().set(\"fs.s3a.secret.key\", os.environ[\"AWS_SECRET_ACCESS_KEY\"])\n",
    "sc._jsc.hadoopConfiguration().set(\"fs.s3a.path.style.access\", \"true\")\n",
    "sc._jsc.hadoopConfiguration().set(\"spark.hadoop.fs.s3a.impl\", \"org.apache.hadoop.fs.s3a.S3AFileSystem\")\n",
    "sc._jsc.hadoopConfiguration().set(\"spark.hadoop.fs.s3a.connection.ssl.enabled\", \"false\")"
   ]
  },
  {
   "cell_type": "code",
   "execution_count": 8,
   "id": "c6a06c32-1c5c-4a2c-8908-4891a0904fef",
   "metadata": {
    "tags": []
   },
   "outputs": [],
   "source": [
    "df = spark.read.csv(\"s3a://realtime-ml/data/raw/transactions.csv\", header=True, inferSchema=True)"
   ]
  },
  {
   "cell_type": "code",
   "execution_count": 9,
   "id": "93af8cdb-9a14-4e1c-b0c0-ecfe91219be0",
   "metadata": {
    "tags": []
   },
   "outputs": [
    {
     "name": "stdout",
     "output_type": "stream",
     "text": [
      "-RECORD 0--------------------------\n",
      " cc_num     | 180094108369013      \n",
      " first      | John                 \n",
      " last       | Holland              \n",
      " trans_num  | 80f5177be11f0bcd7... \n",
      " trans_date | 2011-12-31 18:30:00  \n",
      " trans_time | 00:12:15             \n",
      " unix_time  | 1325376735           \n",
      " category   | personal_care        \n",
      " merchant   | Hills-Boyer          \n",
      " amt        | 64                   \n",
      " merch_lat  | 39.011566            \n",
      " merch_long | -119.937831          \n",
      " is_fraud   | 0                    \n",
      "only showing top 1 row\n",
      "\n"
     ]
    }
   ],
   "source": [
    "df.show(1, vertical=True)"
   ]
  },
  {
   "cell_type": "code",
   "execution_count": 10,
   "id": "4b74acb6-7a24-444d-8b92-8e0295706124",
   "metadata": {
    "tags": []
   },
   "outputs": [],
   "source": [
    "df2 = spark.read.csv(\"s3a://realtime-ml/data/raw/customer.csv\", header=True, inferSchema=True)"
   ]
  },
  {
   "cell_type": "code",
   "execution_count": 11,
   "id": "e8ecf869-0069-498d-bb1e-4d76bb0cf041",
   "metadata": {
    "tags": []
   },
   "outputs": [
    {
     "name": "stdout",
     "output_type": "stream",
     "text": [
      "-RECORD 0----------------------\n",
      " cc_num | 3526015186182660     \n",
      " first  | Carl                 \n",
      " last   | Gomez                \n",
      " gender | M                    \n",
      " street | 204 Cohen Meadow ... \n",
      " city   | Hathaway Pines       \n",
      " state  | CA                   \n",
      " zip    | 95233                \n",
      " lat    | 38.1919              \n",
      " long   | -120.3644            \n",
      " job    | Data processing m... \n",
      " dob    | 1958-10-11 18:30:00  \n",
      "only showing top 1 row\n",
      "\n"
     ]
    }
   ],
   "source": [
    "df2.show(1, vertical=True)"
   ]
  },
  {
   "cell_type": "code",
   "execution_count": 12,
   "id": "b5c37d45-0f1c-4454-9ae2-02823d0ff643",
   "metadata": {
    "tags": []
   },
   "outputs": [
    {
     "name": "stdout",
     "output_type": "stream",
     "text": [
      "root\n",
      " |-- cc_num: long (nullable = true)\n",
      " |-- first: string (nullable = true)\n",
      " |-- last: string (nullable = true)\n",
      " |-- gender: string (nullable = true)\n",
      " |-- street: string (nullable = true)\n",
      " |-- city: string (nullable = true)\n",
      " |-- state: string (nullable = true)\n",
      " |-- zip: integer (nullable = true)\n",
      " |-- lat: double (nullable = true)\n",
      " |-- long: double (nullable = true)\n",
      " |-- job: string (nullable = true)\n",
      " |-- dob: timestamp (nullable = true)\n",
      "\n"
     ]
    }
   ],
   "source": [
    "df2.printSchema()"
   ]
  },
  {
   "cell_type": "markdown",
   "id": "176d8319-a33a-4f2c-a563-2c7da19fad08",
   "metadata": {},
   "source": [
    "## cassandra with spark"
   ]
  },
  {
   "cell_type": "code",
   "execution_count": 18,
   "id": "6a8ca7fe-a92e-45da-af1f-67cc4521fe3e",
   "metadata": {
    "tags": []
   },
   "outputs": [],
   "source": [
    "hosts = {\"spark.cassandra.connection.host\": 'cassandra'}"
   ]
  },
  {
   "cell_type": "code",
   "execution_count": 19,
   "id": "e88cfb1c-cfd5-4c1e-a96b-996e5855ca92",
   "metadata": {
    "tags": []
   },
   "outputs": [],
   "source": [
    "df = spark.read.format(\"org.apache.spark.sql.cassandra\")\\\n",
    "   .options(table=\"students\", keyspace=\"dummy\").options(**hosts).load()"
   ]
  },
  {
   "cell_type": "code",
   "execution_count": 20,
   "id": "f67a04ef-7b7b-4241-b588-2a7e00d3952b",
   "metadata": {
    "tags": []
   },
   "outputs": [
    {
     "name": "stdout",
     "output_type": "stream",
     "text": [
      "+---+----+\n",
      "|idx|name|\n",
      "+---+----+\n",
      "|  1|  AJ|\n",
      "+---+----+\n",
      "\n"
     ]
    }
   ],
   "source": [
    "df.show()"
   ]
  },
  {
   "cell_type": "code",
   "execution_count": null,
   "id": "ec23b2db-33cf-428c-94e6-6ab1c2274d1f",
   "metadata": {},
   "outputs": [],
   "source": []
  }
 ],
 "metadata": {
  "kernelspec": {
   "display_name": "python37",
   "language": "python",
   "name": "python37"
  },
  "language_info": {
   "codemirror_mode": {
    "name": "ipython",
    "version": 3
   },
   "file_extension": ".py",
   "mimetype": "text/x-python",
   "name": "python",
   "nbconvert_exporter": "python",
   "pygments_lexer": "ipython3",
   "version": "3.7.12"
  }
 },
 "nbformat": 4,
 "nbformat_minor": 5
}

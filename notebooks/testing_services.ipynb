{
 "cells": [
  {
   "cell_type": "code",
   "execution_count": 1,
   "id": "ef29e776",
   "metadata": {
    "tags": []
   },
   "outputs": [],
   "source": [
    "from pyspark.sql import SparkSession"
   ]
  },
  {
   "cell_type": "code",
   "execution_count": 2,
   "id": "4e1e1767-56b4-4e50-a3a5-6bca1df5b6d8",
   "metadata": {
    "tags": []
   },
   "outputs": [],
   "source": [
    "jars = [\n",
    "    \"/usr/local/spark/jars/hadoop-aws-3.2.0.jar\",\n",
    "    \"/usr/local/spark/jars/aws-java-sdk-bundle-1.11.375.jar\",\n",
    "    \"/usr/local/spark/jars/spark-cassandra-connector-assembly_2.12-3.0.0.jar\",\n",
    "    \"/usr/local/spark/jars/spark-sql-kafka-0-10_2.12-3.0.0.jar\",\n",
    "    \"/usr/local/spark/jars/kafka-clients-2.4.1.jar\",\n",
    "    \"/usr/local/spark/jars/commons-pool2-2.6.2.jar\",\n",
    "    \"/usr/local/spark/jars/spark-token-provider-kafka-0-10_2.12-3.0.0.jar\"\n",
    "]"
   ]
  },
  {
   "cell_type": "code",
   "execution_count": 3,
   "id": "779399a5",
   "metadata": {
    "tags": []
   },
   "outputs": [],
   "source": [
    "spark = SparkSession.\\\n",
    "        builder.\\\n",
    "        appName(\"pyspark-notebook\").\\\n",
    "        master(\"spark://spark-master:7077\").\\\n",
    "        config(\"spark.executor.memory\", \"480m\").\\\n",
    "        config(\"spark.jars\", \",\".join(jars)).\\\n",
    "        getOrCreate()"
   ]
  },
  {
   "cell_type": "code",
   "execution_count": 4,
   "id": "1f177094-43aa-42ce-80e5-319766cda0e5",
   "metadata": {
    "tags": []
   },
   "outputs": [
    {
     "data": {
      "text/html": [
       "\n",
       "            <div>\n",
       "                <p><b>SparkSession - in-memory</b></p>\n",
       "                \n",
       "        <div>\n",
       "            <p><b>SparkContext</b></p>\n",
       "\n",
       "            <p><a href=\"http://584c35c8a930:4040\">Spark UI</a></p>\n",
       "\n",
       "            <dl>\n",
       "              <dt>Version</dt>\n",
       "                <dd><code>v3.0.2</code></dd>\n",
       "              <dt>Master</dt>\n",
       "                <dd><code>spark://spark-master:7077</code></dd>\n",
       "              <dt>AppName</dt>\n",
       "                <dd><code>pyspark-notebook</code></dd>\n",
       "            </dl>\n",
       "        </div>\n",
       "        \n",
       "            </div>\n",
       "        "
      ],
      "text/plain": [
       "<pyspark.sql.session.SparkSession at 0x7f93bb78a610>"
      ]
     },
     "execution_count": 4,
     "metadata": {},
     "output_type": "execute_result"
    }
   ],
   "source": [
    "spark"
   ]
  },
  {
   "cell_type": "code",
   "execution_count": 5,
   "id": "5d3ea909-f5af-4ec8-96b1-c254cbbc631d",
   "metadata": {},
   "outputs": [],
   "source": [
    "sc = spark.sparkContext"
   ]
  },
  {
   "cell_type": "code",
   "execution_count": 6,
   "id": "853ac2d5-ece3-4f40-a9c0-8d23a461101b",
   "metadata": {},
   "outputs": [],
   "source": [
    "rdd = sc.parallelize([1,2,3,4])"
   ]
  },
  {
   "cell_type": "code",
   "execution_count": 7,
   "id": "39e55cc2-788e-47b6-86df-695a1b689419",
   "metadata": {},
   "outputs": [
    {
     "data": {
      "text/plain": [
       "10"
      ]
     },
     "execution_count": 7,
     "metadata": {},
     "output_type": "execute_result"
    }
   ],
   "source": [
    "rdd.sum()"
   ]
  },
  {
   "cell_type": "markdown",
   "id": "278afd9c-09f3-418f-b224-64c8143813af",
   "metadata": {},
   "source": [
    "## conf for minio"
   ]
  },
  {
   "cell_type": "code",
   "execution_count": 10,
   "id": "d3c021be-c7e6-4f30-87fd-61f573cbd0f6",
   "metadata": {
    "tags": []
   },
   "outputs": [],
   "source": [
    "import os"
   ]
  },
  {
   "cell_type": "code",
   "execution_count": 11,
   "id": "d3fa472d-74f7-483d-b328-68fcd0731bf6",
   "metadata": {
    "tags": []
   },
   "outputs": [],
   "source": [
    "sc._jsc.hadoopConfiguration().set(\"fs.s3a.endpoint\", \"http://minio:9000\")\n",
    "sc._jsc.hadoopConfiguration().set(\"fs.s3a.access.key\", os.environ[\"AWS_ACCESS_KEY_ID\"])\n",
    "sc._jsc.hadoopConfiguration().set(\"fs.s3a.secret.key\", os.environ[\"AWS_SECRET_ACCESS_KEY\"])\n",
    "sc._jsc.hadoopConfiguration().set(\"fs.s3a.path.style.access\", \"true\")\n",
    "sc._jsc.hadoopConfiguration().set(\"spark.hadoop.fs.s3a.impl\", \"org.apache.hadoop.fs.s3a.S3AFileSystem\")\n",
    "sc._jsc.hadoopConfiguration().set(\"spark.hadoop.fs.s3a.connection.ssl.enabled\", \"false\")"
   ]
  },
  {
   "cell_type": "code",
   "execution_count": 12,
   "id": "c6a06c32-1c5c-4a2c-8908-4891a0904fef",
   "metadata": {
    "tags": []
   },
   "outputs": [],
   "source": [
    "df = spark.read.csv(\"s3a://realtime-ml/data/raw/transactions.csv\", header=True, inferSchema=True)"
   ]
  },
  {
   "cell_type": "code",
   "execution_count": 13,
   "id": "93af8cdb-9a14-4e1c-b0c0-ecfe91219be0",
   "metadata": {
    "tags": []
   },
   "outputs": [
    {
     "name": "stdout",
     "output_type": "stream",
     "text": [
      "-RECORD 0--------------------------\n",
      " cc_num     | 180094108369013      \n",
      " first      | John                 \n",
      " last       | Holland              \n",
      " trans_num  | 80f5177be11f0bcd7... \n",
      " trans_date | 2011-12-31 18:30:00  \n",
      " trans_time | 00:12:15             \n",
      " unix_time  | 1325376735           \n",
      " category   | personal_care        \n",
      " merchant   | Hills-Boyer          \n",
      " amt        | 64                   \n",
      " merch_lat  | 39.011566            \n",
      " merch_long | -119.937831          \n",
      " is_fraud   | 0                    \n",
      "only showing top 1 row\n",
      "\n"
     ]
    }
   ],
   "source": [
    "df.show(1, vertical=True)"
   ]
  },
  {
   "cell_type": "code",
   "execution_count": 14,
   "id": "4b74acb6-7a24-444d-8b92-8e0295706124",
   "metadata": {
    "tags": []
   },
   "outputs": [],
   "source": [
    "df2 = spark.read.csv(\"s3a://realtime-ml/data/raw/customer.csv\", header=True, inferSchema=True)"
   ]
  },
  {
   "cell_type": "code",
   "execution_count": 15,
   "id": "e8ecf869-0069-498d-bb1e-4d76bb0cf041",
   "metadata": {
    "tags": []
   },
   "outputs": [
    {
     "name": "stdout",
     "output_type": "stream",
     "text": [
      "-RECORD 0----------------------\n",
      " cc_num | 3526015186182660     \n",
      " first  | Carl                 \n",
      " last   | Gomez                \n",
      " gender | M                    \n",
      " street | 204 Cohen Meadow ... \n",
      " city   | Hathaway Pines       \n",
      " state  | CA                   \n",
      " zip    | 95233                \n",
      " lat    | 38.1919              \n",
      " long   | -120.3644            \n",
      " job    | Data processing m... \n",
      " dob    | 1958-10-11 18:30:00  \n",
      "only showing top 1 row\n",
      "\n"
     ]
    }
   ],
   "source": [
    "df2.show(1, vertical=True)"
   ]
  },
  {
   "cell_type": "code",
   "execution_count": 16,
   "id": "b5c37d45-0f1c-4454-9ae2-02823d0ff643",
   "metadata": {
    "tags": []
   },
   "outputs": [
    {
     "name": "stdout",
     "output_type": "stream",
     "text": [
      "root\n",
      " |-- cc_num: long (nullable = true)\n",
      " |-- first: string (nullable = true)\n",
      " |-- last: string (nullable = true)\n",
      " |-- gender: string (nullable = true)\n",
      " |-- street: string (nullable = true)\n",
      " |-- city: string (nullable = true)\n",
      " |-- state: string (nullable = true)\n",
      " |-- zip: integer (nullable = true)\n",
      " |-- lat: double (nullable = true)\n",
      " |-- long: double (nullable = true)\n",
      " |-- job: string (nullable = true)\n",
      " |-- dob: timestamp (nullable = true)\n",
      "\n"
     ]
    }
   ],
   "source": [
    "df2.printSchema()"
   ]
  },
  {
   "cell_type": "markdown",
   "id": "176d8319-a33a-4f2c-a563-2c7da19fad08",
   "metadata": {},
   "source": [
    "## cassandra with spark"
   ]
  },
  {
   "cell_type": "code",
   "execution_count": 17,
   "id": "6a8ca7fe-a92e-45da-af1f-67cc4521fe3e",
   "metadata": {
    "tags": []
   },
   "outputs": [],
   "source": [
    "hosts = {\"spark.cassandra.connection.host\": 'cassandra'}"
   ]
  },
  {
   "cell_type": "code",
   "execution_count": 18,
   "id": "e88cfb1c-cfd5-4c1e-a96b-996e5855ca92",
   "metadata": {
    "tags": []
   },
   "outputs": [],
   "source": [
    "df = spark.read.format(\"org.apache.spark.sql.cassandra\")\\\n",
    "   .options(table=\"customer\", keyspace=\"creditcard\").options(**hosts).load()"
   ]
  },
  {
   "cell_type": "code",
   "execution_count": 19,
   "id": "f67a04ef-7b7b-4241-b588-2a7e00d3952b",
   "metadata": {
    "tags": []
   },
   "outputs": [
    {
     "name": "stdout",
     "output_type": "stream",
     "text": [
      "+------+----+---+-----+------+---+----+---+----+-----+------+---+\n",
      "|cc_num|city|dob|first|gender|job|last|lat|long|state|street|zip|\n",
      "+------+----+---+-----+------+---+----+---+----+-----+------+---+\n",
      "+------+----+---+-----+------+---+----+---+----+-----+------+---+\n",
      "\n"
     ]
    }
   ],
   "source": [
    "df.show()"
   ]
  },
  {
   "cell_type": "markdown",
   "id": "b4672dfd-d6f2-41eb-99c6-e2cb06bb7e40",
   "metadata": {},
   "source": [
    "## kafka consumer"
   ]
  },
  {
   "cell_type": "code",
   "execution_count": 85,
   "id": "12bfabc1-7426-49ed-a3cb-9ded105d9c7b",
   "metadata": {},
   "outputs": [],
   "source": [
    "import pyspark.sql.functions as F\n",
    "import pyspark.sql.types as T"
   ]
  },
  {
   "cell_type": "code",
   "execution_count": 86,
   "id": "5aa5ec3a-8d55-41be-905e-895d90828032",
   "metadata": {},
   "outputs": [],
   "source": [
    "df = (spark\n",
    "      .readStream\n",
    "      .format(\"kafka\")\n",
    "      .option(\"kafka.bootstrap.servers\", \"broker:29092\")\n",
    "      .option(\"startingOffsets\", \"earliest\")\n",
    "      .option(\"subscribe\", \"realtime-ml\")\n",
    "      .load()\n",
    "      .select(\"timestamp\", \"value\")\n",
    "     )"
   ]
  },
  {
   "cell_type": "code",
   "execution_count": 87,
   "id": "d4a44a9d-92ee-4702-bc1d-d8bc02a4b501",
   "metadata": {},
   "outputs": [
    {
     "name": "stdout",
     "output_type": "stream",
     "text": [
      "root\n",
      " |-- timestamp: timestamp (nullable = true)\n",
      " |-- value: binary (nullable = true)\n",
      "\n"
     ]
    }
   ],
   "source": [
    "df.printSchema()"
   ]
  },
  {
   "cell_type": "code",
   "execution_count": 88,
   "id": "0b91d2b3-f208-4ef9-bc65-5def0c1fbbf7",
   "metadata": {},
   "outputs": [
    {
     "data": {
      "text/plain": [
       "[]"
      ]
     },
     "execution_count": 88,
     "metadata": {},
     "output_type": "execute_result"
    }
   ],
   "source": [
    "[x.stop() for x in spark.streams.active]"
   ]
  },
  {
   "cell_type": "code",
   "execution_count": 89,
   "id": "9b895a30-4216-4e66-8886-9b1dfeb00920",
   "metadata": {},
   "outputs": [],
   "source": [
    "query = (\n",
    "        df.withWatermark(\"timestamp\", \"1 minute\")\n",
    "        .writeStream\n",
    "        .outputMode(\"append\")\n",
    "        .format(\"memory\")\n",
    "        .queryName(\"test_query\")\n",
    ")"
   ]
  },
  {
   "cell_type": "code",
   "execution_count": 90,
   "id": "4449c91e-3386-41af-8149-a3f4d8893aad",
   "metadata": {},
   "outputs": [
    {
     "data": {
      "text/plain": [
       "<pyspark.sql.streaming.StreamingQuery at 0x7f94076fefd0>"
      ]
     },
     "execution_count": 90,
     "metadata": {},
     "output_type": "execute_result"
    }
   ],
   "source": [
    "query.start()"
   ]
  },
  {
   "cell_type": "code",
   "execution_count": 91,
   "id": "b23f32dd-1e51-42c1-abb2-1f54f9bbb190",
   "metadata": {},
   "outputs": [
    {
     "data": {
      "text/plain": [
       "[Row(timestamp=datetime.datetime(2023, 7, 13, 11, 5, 38, 763000), value=bytearray(b'{\"cc_num\": \"4037295225657274\", \"first\": \"Antonio\", \"last\": \"Garcia\", \"trans_num\": \"9d88e9ebbc31b218c192086fbfe9dd5e\", \"trans_time\": \"2023-07-13 16:35:38.763031\", \"category\": \"1325379228\", \"merchant\": \"shopping_pos\", \"amt\": \"\\\\\"Nitzsche\", \"merch_lat\": \" Kessler and Wolff\\\\\"\", \"merch_long\": \"176\", \"distance\": \"40.078255\", \"age\": \"-102.402743\"}')),\n",
       " Row(timestamp=datetime.datetime(2023, 7, 13, 11, 5, 38, 764000), value=bytearray(b'{\"cc_num\": \"4368593032190508\", \"first\": \"Carla\", \"last\": \"Fleming\", \"trans_num\": \"9e3ee495dee3ac4577269c93c60fe0a4\", \"trans_time\": \"2023-07-13 16:35:38.763759\", \"category\": \"1325381126\", \"merchant\": \"health_fitness\", \"amt\": \"\\\\\"Klocko\", \"merch_lat\": \" Runolfsdottir and Breitenberg\\\\\"\", \"merch_long\": \"229\", \"distance\": \"40.203391\", \"age\": \"-75.552377\"}')),\n",
       " Row(timestamp=datetime.datetime(2023, 7, 13, 11, 5, 38, 764000), value=bytearray(b'{\"cc_num\": \"370763211656868\", \"first\": \"Jeffrey\", \"last\": \"Garza\", \"trans_num\": \"662830b8b761f71f9689561b6693b5e3\", \"trans_time\": \"2023-07-13 16:35:38.764109\", \"category\": \"1325381961\", \"merchant\": \"grocery_net\", \"amt\": \"\\\\\"Swift\", \"merch_lat\": \" Bradtke and Marquardt\\\\\"\", \"merch_long\": \"141\", \"distance\": \"41.883148\", \"age\": \"-87.623171\"}')),\n",
       " Row(timestamp=datetime.datetime(2023, 7, 13, 11, 5, 38, 765000), value=bytearray(b'{\"cc_num\": \"38535403302699\", \"first\": \"William\", \"last\": \"Reed\", \"trans_num\": \"767d7b2ae75fe076e4b570b1e34092f2\", \"trans_time\": \"2023-07-13 16:35:38.764804\", \"category\": \"1325382536\", \"merchant\": \"health_fitness\", \"amt\": \"\\\\\"Torp\", \"merch_lat\": \" Muller and Borer\\\\\"\", \"merch_long\": \"122\", \"distance\": \"39.922784\", \"age\": \"-83.450302\"}')),\n",
       " Row(timestamp=datetime.datetime(2023, 7, 13, 11, 5, 38, 765000), value=bytearray(b'{\"cc_num\": \"180094108369013\", \"first\": \"John\", \"last\": \"Holland\", \"trans_num\": \"c1ad7a1b73172ef67bd24820438f3f93\", \"trans_time\": \"2023-07-13 16:35:38.765168\", \"category\": \"1325382672\", \"merchant\": \"travel\", \"amt\": \"Satterfield-Lowe\", \"merch_lat\": \"81\", \"merch_long\": \"39.015861\", \"distance\": \"-119.883595\", \"age\": \"0\"}'))]"
      ]
     },
     "metadata": {},
     "output_type": "display_data"
    },
    {
     "ename": "KeyboardInterrupt",
     "evalue": "",
     "output_type": "error",
     "traceback": [
      "\u001b[0;31m---------------------------------------------------------------------------\u001b[0m",
      "\u001b[0;31mKeyboardInterrupt\u001b[0m                         Traceback (most recent call last)",
      "\u001b[0;32m/tmp/ipykernel_26686/2664522803.py\u001b[0m in \u001b[0;36m<module>\u001b[0;34m\u001b[0m\n\u001b[1;32m      5\u001b[0m     \u001b[0mclear_output\u001b[0m\u001b[0;34m(\u001b[0m\u001b[0mwait\u001b[0m\u001b[0;34m=\u001b[0m\u001b[0;32mTrue\u001b[0m\u001b[0;34m)\u001b[0m\u001b[0;34m\u001b[0m\u001b[0;34m\u001b[0m\u001b[0m\n\u001b[1;32m      6\u001b[0m     \u001b[0mdisplay\u001b[0m\u001b[0;34m(\u001b[0m\u001b[0mspark\u001b[0m\u001b[0;34m.\u001b[0m\u001b[0msql\u001b[0m\u001b[0;34m(\u001b[0m\u001b[0;34m\"select * FROM test_query\"\u001b[0m\u001b[0;34m)\u001b[0m\u001b[0;34m.\u001b[0m\u001b[0mtail\u001b[0m\u001b[0;34m(\u001b[0m\u001b[0;36m5\u001b[0m\u001b[0;34m)\u001b[0m\u001b[0;34m)\u001b[0m\u001b[0;34m\u001b[0m\u001b[0;34m\u001b[0m\u001b[0m\n\u001b[0;32m----> 7\u001b[0;31m     \u001b[0msleep\u001b[0m\u001b[0;34m(\u001b[0m\u001b[0;36m1\u001b[0m\u001b[0;34m)\u001b[0m\u001b[0;34m\u001b[0m\u001b[0;34m\u001b[0m\u001b[0m\n\u001b[0m",
      "\u001b[0;31mKeyboardInterrupt\u001b[0m: "
     ]
    }
   ],
   "source": [
    "from IPython.display import display, clear_output\n",
    "from time import sleep\n",
    "\n",
    "while True:\n",
    "    clear_output(wait=True)\n",
    "    display(spark.sql(\"select * FROM test_query\").tail(5))\n",
    "    sleep(1)"
   ]
  },
  {
   "cell_type": "code",
   "execution_count": null,
   "id": "2d950fcb-9343-4bba-b41f-c703a645fd27",
   "metadata": {},
   "outputs": [],
   "source": []
  }
 ],
 "metadata": {
  "kernelspec": {
   "display_name": "python37",
   "language": "python",
   "name": "python37"
  },
  "language_info": {
   "codemirror_mode": {
    "name": "ipython",
    "version": 3
   },
   "file_extension": ".py",
   "mimetype": "text/x-python",
   "name": "python",
   "nbconvert_exporter": "python",
   "pygments_lexer": "ipython3",
   "version": "3.7.12"
  }
 },
 "nbformat": 4,
 "nbformat_minor": 5
}

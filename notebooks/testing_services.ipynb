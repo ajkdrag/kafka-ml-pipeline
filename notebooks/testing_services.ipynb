{
 "cells": [
  {
   "cell_type": "code",
   "execution_count": 1,
   "id": "ef29e776",
   "metadata": {
    "tags": []
   },
   "outputs": [],
   "source": [
    "from pyspark.sql import SparkSession"
   ]
  },
  {
   "cell_type": "code",
   "execution_count": 2,
   "id": "4e1e1767-56b4-4e50-a3a5-6bca1df5b6d8",
   "metadata": {
    "tags": []
   },
   "outputs": [],
   "source": [
    "jars = [\n",
    "    \"/usr/local/spark/jars/hadoop-aws-3.2.0.jar\",\n",
    "    \"/usr/local/spark/jars/aws-java-sdk-bundle-1.11.375.jar\",\n",
    "    \"/usr/local/spark/jars/spark-cassandra-connector-assembly_2.12-3.0.0.jar\",\n",
    "    \"/usr/local/spark/jars/spark-sql-kafka-0-10_2.12-3.0.0.jar\",\n",
    "    \"/usr/local/spark/jars/kafka-clients-2.4.1.jar\",\n",
    "    \"/usr/local/spark/jars/commons-pool2-2.6.2.jar\",\n",
    "    \"/usr/local/spark/jars/spark-token-provider-kafka-0-10_2.12-3.0.0.jar\"\n",
    "]"
   ]
  },
  {
   "cell_type": "code",
   "execution_count": 3,
   "id": "f7adcd86-89a4-458a-8fc1-d02948086412",
   "metadata": {},
   "outputs": [],
   "source": [
    "from pathlib import Path"
   ]
  },
  {
   "cell_type": "code",
   "execution_count": 4,
   "id": "d0af176d-deb2-4d19-8155-4f256e4529f0",
   "metadata": {},
   "outputs": [
    {
     "name": "stdout",
     "output_type": "stream",
     "text": [
      "True\n",
      "True\n",
      "True\n",
      "True\n",
      "True\n",
      "True\n",
      "True\n"
     ]
    }
   ],
   "source": [
    "for jar in jars:\n",
    "    print(Path(jar).exists())"
   ]
  },
  {
   "cell_type": "code",
   "execution_count": 5,
   "id": "779399a5",
   "metadata": {
    "tags": []
   },
   "outputs": [],
   "source": [
    "spark = SparkSession.\\\n",
    "        builder.\\\n",
    "        appName(\"pyspark-notebook\").\\\n",
    "        master(\"spark://spark-master:7077\").\\\n",
    "        config(\"spark.executor.memory\", \"480m\").\\\n",
    "        config(\"spark.jars\", \",\".join(jars)).\\\n",
    "        getOrCreate()"
   ]
  },
  {
   "cell_type": "code",
   "execution_count": 6,
   "id": "1f177094-43aa-42ce-80e5-319766cda0e5",
   "metadata": {
    "tags": []
   },
   "outputs": [
    {
     "data": {
      "text/html": [
       "\n",
       "            <div>\n",
       "                <p><b>SparkSession - in-memory</b></p>\n",
       "                \n",
       "        <div>\n",
       "            <p><b>SparkContext</b></p>\n",
       "\n",
       "            <p><a href=\"http://1f346313f30c:4040\">Spark UI</a></p>\n",
       "\n",
       "            <dl>\n",
       "              <dt>Version</dt>\n",
       "                <dd><code>v3.0.2</code></dd>\n",
       "              <dt>Master</dt>\n",
       "                <dd><code>spark://spark-master:7077</code></dd>\n",
       "              <dt>AppName</dt>\n",
       "                <dd><code>pyspark-notebook</code></dd>\n",
       "            </dl>\n",
       "        </div>\n",
       "        \n",
       "            </div>\n",
       "        "
      ],
      "text/plain": [
       "<pyspark.sql.session.SparkSession at 0x7fba6418be50>"
      ]
     },
     "execution_count": 6,
     "metadata": {},
     "output_type": "execute_result"
    }
   ],
   "source": [
    "spark"
   ]
  },
  {
   "cell_type": "code",
   "execution_count": 7,
   "id": "5d3ea909-f5af-4ec8-96b1-c254cbbc631d",
   "metadata": {},
   "outputs": [],
   "source": [
    "sc = spark.sparkContext"
   ]
  },
  {
   "cell_type": "code",
   "execution_count": 8,
   "id": "853ac2d5-ece3-4f40-a9c0-8d23a461101b",
   "metadata": {},
   "outputs": [],
   "source": [
    "rdd = sc.parallelize([1,2,3,4])"
   ]
  },
  {
   "cell_type": "code",
   "execution_count": 9,
   "id": "39e55cc2-788e-47b6-86df-695a1b689419",
   "metadata": {},
   "outputs": [
    {
     "data": {
      "text/plain": [
       "10"
      ]
     },
     "execution_count": 9,
     "metadata": {},
     "output_type": "execute_result"
    }
   ],
   "source": [
    "rdd.sum()"
   ]
  },
  {
   "cell_type": "markdown",
   "id": "278afd9c-09f3-418f-b224-64c8143813af",
   "metadata": {},
   "source": [
    "## conf for minio"
   ]
  },
  {
   "cell_type": "code",
   "execution_count": 10,
   "id": "d3c021be-c7e6-4f30-87fd-61f573cbd0f6",
   "metadata": {
    "tags": []
   },
   "outputs": [],
   "source": [
    "import os"
   ]
  },
  {
   "cell_type": "code",
   "execution_count": 11,
   "id": "d3fa472d-74f7-483d-b328-68fcd0731bf6",
   "metadata": {
    "tags": []
   },
   "outputs": [],
   "source": [
    "sc._jsc.hadoopConfiguration().set(\"fs.s3a.endpoint\", \"http://minio:9000\")\n",
    "sc._jsc.hadoopConfiguration().set(\"fs.s3a.access.key\", os.environ[\"AWS_ACCESS_KEY_ID\"])\n",
    "sc._jsc.hadoopConfiguration().set(\"fs.s3a.secret.key\", os.environ[\"AWS_SECRET_ACCESS_KEY\"])\n",
    "sc._jsc.hadoopConfiguration().set(\"fs.s3a.path.style.access\", \"true\")\n",
    "sc._jsc.hadoopConfiguration().set(\"spark.hadoop.fs.s3a.impl\", \"org.apache.hadoop.fs.s3a.S3AFileSystem\")\n",
    "sc._jsc.hadoopConfiguration().set(\"spark.hadoop.fs.s3a.connection.ssl.enabled\", \"false\")"
   ]
  },
  {
   "cell_type": "code",
   "execution_count": 12,
   "id": "c6a06c32-1c5c-4a2c-8908-4891a0904fef",
   "metadata": {
    "tags": []
   },
   "outputs": [],
   "source": [
    "df = spark.read.csv(\"s3a://realtime-ml/data/raw/transactions.csv\", header=True, inferSchema=True)"
   ]
  },
  {
   "cell_type": "code",
   "execution_count": 13,
   "id": "93af8cdb-9a14-4e1c-b0c0-ecfe91219be0",
   "metadata": {
    "tags": []
   },
   "outputs": [
    {
     "name": "stdout",
     "output_type": "stream",
     "text": [
      "-RECORD 0--------------------------\n",
      " cc_num     | 180094108369013      \n",
      " first      | John                 \n",
      " last       | Holland              \n",
      " trans_num  | 80f5177be11f0bcd7... \n",
      " trans_date | 2011-12-31 18:30:00  \n",
      " trans_time | 00:12:15             \n",
      " unix_time  | 1325376735           \n",
      " category   | personal_care        \n",
      " merchant   | Hills-Boyer          \n",
      " amt        | 64                   \n",
      " merch_lat  | 39.011566            \n",
      " merch_long | -119.937831          \n",
      " is_fraud   | 0                    \n",
      "only showing top 1 row\n",
      "\n"
     ]
    }
   ],
   "source": [
    "df.show(1, vertical=True)"
   ]
  },
  {
   "cell_type": "code",
   "execution_count": 14,
   "id": "4b74acb6-7a24-444d-8b92-8e0295706124",
   "metadata": {
    "tags": []
   },
   "outputs": [],
   "source": [
    "df2 = spark.read.csv(\"s3a://realtime-ml/data/raw/customer.csv\", header=True, inferSchema=True)"
   ]
  },
  {
   "cell_type": "code",
   "execution_count": 15,
   "id": "e8ecf869-0069-498d-bb1e-4d76bb0cf041",
   "metadata": {
    "tags": []
   },
   "outputs": [
    {
     "name": "stdout",
     "output_type": "stream",
     "text": [
      "-RECORD 0----------------------\n",
      " cc_num | 3526015186182660     \n",
      " first  | Carl                 \n",
      " last   | Gomez                \n",
      " gender | M                    \n",
      " street | 204 Cohen Meadow ... \n",
      " city   | Hathaway Pines       \n",
      " state  | CA                   \n",
      " zip    | 95233                \n",
      " lat    | 38.1919              \n",
      " long   | -120.3644            \n",
      " job    | Data processing m... \n",
      " dob    | 1958-10-11 18:30:00  \n",
      "only showing top 1 row\n",
      "\n"
     ]
    }
   ],
   "source": [
    "df2.show(1, vertical=True)"
   ]
  },
  {
   "cell_type": "code",
   "execution_count": 16,
   "id": "b5c37d45-0f1c-4454-9ae2-02823d0ff643",
   "metadata": {
    "tags": []
   },
   "outputs": [
    {
     "name": "stdout",
     "output_type": "stream",
     "text": [
      "root\n",
      " |-- cc_num: long (nullable = true)\n",
      " |-- first: string (nullable = true)\n",
      " |-- last: string (nullable = true)\n",
      " |-- gender: string (nullable = true)\n",
      " |-- street: string (nullable = true)\n",
      " |-- city: string (nullable = true)\n",
      " |-- state: string (nullable = true)\n",
      " |-- zip: integer (nullable = true)\n",
      " |-- lat: double (nullable = true)\n",
      " |-- long: double (nullable = true)\n",
      " |-- job: string (nullable = true)\n",
      " |-- dob: timestamp (nullable = true)\n",
      "\n"
     ]
    }
   ],
   "source": [
    "df2.printSchema()"
   ]
  },
  {
   "cell_type": "markdown",
   "id": "176d8319-a33a-4f2c-a563-2c7da19fad08",
   "metadata": {},
   "source": [
    "## cassandra with spark"
   ]
  },
  {
   "cell_type": "code",
   "execution_count": 17,
   "id": "6a8ca7fe-a92e-45da-af1f-67cc4521fe3e",
   "metadata": {
    "tags": []
   },
   "outputs": [],
   "source": [
    "hosts = {\"spark.cassandra.connection.host\": 'cassandra'}"
   ]
  },
  {
   "cell_type": "code",
   "execution_count": 18,
   "id": "e88cfb1c-cfd5-4c1e-a96b-996e5855ca92",
   "metadata": {
    "tags": []
   },
   "outputs": [],
   "source": [
    "df = spark.read.format(\"org.apache.spark.sql.cassandra\")\\\n",
    "   .options(table=\"customer\", keyspace=\"creditcard\").options(**hosts).load()"
   ]
  },
  {
   "cell_type": "code",
   "execution_count": 19,
   "id": "f67a04ef-7b7b-4241-b588-2a7e00d3952b",
   "metadata": {
    "tags": []
   },
   "outputs": [
    {
     "name": "stdout",
     "output_type": "stream",
     "text": [
      "+------+----+---+-----+------+---+----+---+----+-----+------+---+\n",
      "|cc_num|city|dob|first|gender|job|last|lat|long|state|street|zip|\n",
      "+------+----+---+-----+------+---+----+---+----+-----+------+---+\n",
      "+------+----+---+-----+------+---+----+---+----+-----+------+---+\n",
      "\n"
     ]
    }
   ],
   "source": [
    "df.show()"
   ]
  },
  {
   "cell_type": "markdown",
   "id": "b4672dfd-d6f2-41eb-99c6-e2cb06bb7e40",
   "metadata": {},
   "source": [
    "## kafka consumer"
   ]
  },
  {
   "cell_type": "code",
   "execution_count": 70,
   "id": "12bfabc1-7426-49ed-a3cb-9ded105d9c7b",
   "metadata": {},
   "outputs": [],
   "source": [
    "import pyspark.sql.functions as F\n",
    "import pyspark.sql.types as T"
   ]
  },
  {
   "cell_type": "code",
   "execution_count": 71,
   "id": "5aa5ec3a-8d55-41be-905e-895d90828032",
   "metadata": {},
   "outputs": [],
   "source": [
    "df = (spark\n",
    "      .readStream\n",
    "      .format(\"kafka\")\n",
    "      .option(\"kafka.bootstrap.servers\", \"broker:29092\")\n",
    "      .option(\"startingOffsets\", \"earliest\")\n",
    "      .option(\"subscribe\", \"test-topic\")\n",
    "      .load()\n",
    "      .withColumn(\"transformed\", F.from_json(F.col(\"value\").cast(T.StringType()), test_schema)\n",
    "     )"
   ]
  },
  {
   "cell_type": "code",
   "execution_count": 72,
   "id": "d4a44a9d-92ee-4702-bc1d-d8bc02a4b501",
   "metadata": {},
   "outputs": [
    {
     "name": "stdout",
     "output_type": "stream",
     "text": [
      "root\n",
      " |-- timestamp: timestamp (nullable = true)\n",
      " |-- value: binary (nullable = true)\n",
      "\n"
     ]
    }
   ],
   "source": [
    "df.printSchema()"
   ]
  },
  {
   "cell_type": "code",
   "execution_count": 93,
   "id": "0b91d2b3-f208-4ef9-bc65-5def0c1fbbf7",
   "metadata": {},
   "outputs": [
    {
     "data": {
      "text/plain": [
       "[]"
      ]
     },
     "execution_count": 93,
     "metadata": {},
     "output_type": "execute_result"
    }
   ],
   "source": [
    "[x.stop() for x in spark.streams.active]"
   ]
  },
  {
   "cell_type": "code",
   "execution_count": 94,
   "id": "9b895a30-4216-4e66-8886-9b1dfeb00920",
   "metadata": {},
   "outputs": [],
   "source": [
    "query = (\n",
    "        df.withWatermark(\"timestamp\", \"1 minute\")\n",
    "        .writeStream\n",
    "        .outputMode(\"append\")\n",
    "        .format(\"memory\")\n",
    "        .queryName(\"test_query\")\n",
    ")"
   ]
  },
  {
   "cell_type": "code",
   "execution_count": 95,
   "id": "4449c91e-3386-41af-8149-a3f4d8893aad",
   "metadata": {},
   "outputs": [
    {
     "data": {
      "text/plain": [
       "<pyspark.sql.streaming.StreamingQuery at 0x7fba65d76d50>"
      ]
     },
     "execution_count": 95,
     "metadata": {},
     "output_type": "execute_result"
    }
   ],
   "source": [
    "query.start()"
   ]
  },
  {
   "cell_type": "code",
   "execution_count": 96,
   "id": "b23f32dd-1e51-42c1-abb2-1f54f9bbb190",
   "metadata": {},
   "outputs": [
    {
     "data": {
      "text/plain": [
       "[Row(timestamp=datetime.datetime(2023, 7, 24, 9, 15, 46, 801000), value=bytearray(b'{\"x\": 16, \"y\": 8, \"z\": \"3\"}')),\n",
       " Row(timestamp=datetime.datetime(2023, 7, 24, 9, 15, 51, 802000), value=bytearray(b'{\"x\": 18, \"y\": 9, \"z\": \"3\"}')),\n",
       " Row(timestamp=datetime.datetime(2023, 7, 24, 9, 15, 56, 803000), value=bytearray(b'{\"x\": 20, \"y\": 10, \"z\": \"3\"}')),\n",
       " Row(timestamp=datetime.datetime(2023, 7, 24, 9, 16, 1, 804000), value=bytearray(b'{\"x\": 22, \"y\": 11, \"z\": \"3\"}')),\n",
       " Row(timestamp=datetime.datetime(2023, 7, 24, 9, 16, 6, 805000), value=bytearray(b'{\"x\": 24, \"y\": 12, \"z\": \"3\"}'))]"
      ]
     },
     "metadata": {},
     "output_type": "display_data"
    },
    {
     "ename": "KeyboardInterrupt",
     "evalue": "",
     "output_type": "error",
     "traceback": [
      "\u001b[0;31m---------------------------------------------------------------------------\u001b[0m",
      "\u001b[0;31mKeyboardInterrupt\u001b[0m                         Traceback (most recent call last)",
      "\u001b[0;32m/tmp/ipykernel_407/2664522803.py\u001b[0m in \u001b[0;36m<module>\u001b[0;34m\u001b[0m\n\u001b[1;32m      5\u001b[0m     \u001b[0mclear_output\u001b[0m\u001b[0;34m(\u001b[0m\u001b[0mwait\u001b[0m\u001b[0;34m=\u001b[0m\u001b[0;32mTrue\u001b[0m\u001b[0;34m)\u001b[0m\u001b[0;34m\u001b[0m\u001b[0;34m\u001b[0m\u001b[0m\n\u001b[1;32m      6\u001b[0m     \u001b[0mdisplay\u001b[0m\u001b[0;34m(\u001b[0m\u001b[0mspark\u001b[0m\u001b[0;34m.\u001b[0m\u001b[0msql\u001b[0m\u001b[0;34m(\u001b[0m\u001b[0;34m\"select * FROM test_query\"\u001b[0m\u001b[0;34m)\u001b[0m\u001b[0;34m.\u001b[0m\u001b[0mtail\u001b[0m\u001b[0;34m(\u001b[0m\u001b[0;36m5\u001b[0m\u001b[0;34m)\u001b[0m\u001b[0;34m)\u001b[0m\u001b[0;34m\u001b[0m\u001b[0;34m\u001b[0m\u001b[0m\n\u001b[0;32m----> 7\u001b[0;31m     \u001b[0msleep\u001b[0m\u001b[0;34m(\u001b[0m\u001b[0;36m1\u001b[0m\u001b[0;34m)\u001b[0m\u001b[0;34m\u001b[0m\u001b[0;34m\u001b[0m\u001b[0m\n\u001b[0m",
      "\u001b[0;31mKeyboardInterrupt\u001b[0m: "
     ]
    }
   ],
   "source": [
    "from IPython.display import display, clear_output\n",
    "from time import sleep\n",
    "\n",
    "while True:\n",
    "    clear_output(wait=True)\n",
    "    display(spark.sql(\"select * FROM test_query\").tail(5))\n",
    "    sleep(1)"
   ]
  },
  {
   "cell_type": "code",
   "execution_count": 97,
   "id": "2d950fcb-9343-4bba-b41f-c703a645fd27",
   "metadata": {},
   "outputs": [
    {
     "name": "stdout",
     "output_type": "stream",
     "text": [
      "+--------------------+--------------------+\n",
      "|           timestamp|               value|\n",
      "+--------------------+--------------------+\n",
      "|2023-07-24 09:16:...|[7B 22 78 22 3A 2...|\n",
      "|2023-07-24 09:16:...|[7B 22 78 22 3A 2...|\n",
      "|2023-07-24 09:16:...|[7B 22 78 22 3A 2...|\n",
      "|2023-07-24 09:15:...|[7B 22 78 22 3A 2...|\n",
      "|2023-07-24 09:15:...|[7B 22 78 22 3A 2...|\n",
      "|2023-07-24 09:15:...|[7B 22 78 22 3A 2...|\n",
      "|2023-07-24 09:15:...|[7B 22 78 22 3A 2...|\n",
      "|2023-07-24 09:15:...|[7B 22 78 22 3A 2...|\n",
      "|2023-07-24 09:15:...|[7B 22 78 22 3A 2...|\n",
      "|2023-07-24 09:15:...|[7B 22 78 22 3A 2...|\n",
      "+--------------------+--------------------+\n",
      "only showing top 10 rows\n",
      "\n"
     ]
    }
   ],
   "source": [
    "spark.sql(\"select * FROM test_query order by timestamp desc\").show(n=10)"
   ]
  },
  {
   "cell_type": "code",
   "execution_count": 98,
   "id": "ec67f5bf-2d6b-49b7-86aa-cc9904588fe5",
   "metadata": {},
   "outputs": [],
   "source": [
    "test_df = spark.sql(\"select * FROM test_query order by timestamp desc\").limit(5)"
   ]
  },
  {
   "cell_type": "code",
   "execution_count": 99,
   "id": "10defa64-a730-48df-b19b-8a03a2703bd6",
   "metadata": {},
   "outputs": [
    {
     "data": {
      "text/plain": [
       "5"
      ]
     },
     "execution_count": 99,
     "metadata": {},
     "output_type": "execute_result"
    }
   ],
   "source": [
    "test_df.count()"
   ]
  },
  {
   "cell_type": "code",
   "execution_count": 112,
   "id": "4022318f-9b24-47ce-826c-5293bf0244c0",
   "metadata": {},
   "outputs": [],
   "source": [
    "test_schema = T.StructType()"
   ]
  },
  {
   "cell_type": "code",
   "execution_count": 113,
   "id": "ffb7ac20-54f9-433b-8abe-3f8567e93ef2",
   "metadata": {},
   "outputs": [
    {
     "data": {
      "text/plain": [
       "StructType(List(StructField(x,DoubleType,true),StructField(y,DoubleType,true),StructField(z,StringType,true)))"
      ]
     },
     "execution_count": 113,
     "metadata": {},
     "output_type": "execute_result"
    }
   ],
   "source": [
    "test_schema.add(\"x\", T.DoubleType(), True) \\\n",
    "            .add(\"y\", T.DoubleType(), True) \\\n",
    "            .add(\"z\", T.StringType(), True)"
   ]
  },
  {
   "cell_type": "code",
   "execution_count": 117,
   "id": "9cd67310-cd84-4f4d-86bf-f5c6006cb41a",
   "metadata": {},
   "outputs": [],
   "source": [
    "mapped = test_df.select(F.col(\"value\").cast(T.StringType())) \\\n",
    "       .withColumn(\"transformed\", F.from_json(F.col(\"value\").cast(T.StringType()), test_schema))"
   ]
  },
  {
   "cell_type": "code",
   "execution_count": 121,
   "id": "d0e6b0ca-b0ce-4007-ac7b-665456588c01",
   "metadata": {},
   "outputs": [
    {
     "name": "stdout",
     "output_type": "stream",
     "text": [
      "+-----+----+---+\n",
      "|    x|   y|  z|\n",
      "+-----+----+---+\n",
      "|170.0|85.0|  3|\n",
      "|168.0|84.0|  3|\n",
      "|166.0|83.0|  3|\n",
      "|164.0|82.0|  3|\n",
      "|162.0|81.0|  3|\n",
      "+-----+----+---+\n",
      "\n"
     ]
    }
   ],
   "source": [
    "mapped.select(\"transformed.*\").show()"
   ]
  },
  {
   "cell_type": "code",
   "execution_count": 103,
   "id": "0621de1a-5b54-4e5f-b8fc-375ab3ae84c7",
   "metadata": {
    "scrolled": true
   },
   "outputs": [],
   "source": [
    "json_schema = spark.read.json(test_df.rdd.map(mapper)).schema"
   ]
  },
  {
   "cell_type": "code",
   "execution_count": 104,
   "id": "f5d32fc6-381f-4907-9fa2-16f4e3846885",
   "metadata": {},
   "outputs": [
    {
     "data": {
      "text/plain": [
       "StructType(List(StructField(x,LongType,true),StructField(y,LongType,true),StructField(z,StringType,true)))"
      ]
     },
     "execution_count": 104,
     "metadata": {},
     "output_type": "execute_result"
    }
   ],
   "source": [
    "json_schema"
   ]
  },
  {
   "cell_type": "code",
   "execution_count": 105,
   "id": "c25be581-4898-4693-b6b3-2b953efe236c",
   "metadata": {
    "scrolled": true
   },
   "outputs": [
    {
     "data": {
      "text/plain": [
       "['{\"x\": 28, \"y\": 14, \"z\": \"3\"}',\n",
       " '{\"x\": 26, \"y\": 13, \"z\": \"3\"}',\n",
       " '{\"x\": 24, \"y\": 12, \"z\": \"3\"}',\n",
       " '{\"x\": 22, \"y\": 11, \"z\": \"3\"}',\n",
       " '{\"x\": 20, \"y\": 10, \"z\": \"3\"}']"
      ]
     },
     "execution_count": 105,
     "metadata": {},
     "output_type": "execute_result"
    }
   ],
   "source": [
    "test_df.rdd.map(lambda row: row.value.decode()).collect()"
   ]
  },
  {
   "cell_type": "code",
   "execution_count": 122,
   "id": "de6e73bc-ad13-49bb-8419-684c49cad123",
   "metadata": {},
   "outputs": [
    {
     "data": {
      "text/plain": [
       "StructType(List(StructField(x,DoubleType,true),StructField(y,DoubleType,true),StructField(z,StringType,true)))"
      ]
     },
     "execution_count": 122,
     "metadata": {},
     "output_type": "execute_result"
    }
   ],
   "source": [
    "test_schema"
   ]
  },
  {
   "cell_type": "code",
   "execution_count": 123,
   "id": "cf4c8e98-3025-4a0a-a303-d10f05d85b73",
   "metadata": {},
   "outputs": [
    {
     "data": {
      "text/plain": [
       "[StructField(x,DoubleType,true),\n",
       " StructField(y,DoubleType,true),\n",
       " StructField(z,StringType,true)]"
      ]
     },
     "execution_count": 123,
     "metadata": {},
     "output_type": "execute_result"
    }
   ],
   "source": []
  }
 ],
 "metadata": {
  "kernelspec": {
   "display_name": "python37",
   "language": "python",
   "name": "python37"
  },
  "language_info": {
   "codemirror_mode": {
    "name": "ipython",
    "version": 3
   },
   "file_extension": ".py",
   "mimetype": "text/x-python",
   "name": "python",
   "nbconvert_exporter": "python",
   "pygments_lexer": "ipython3",
   "version": "3.7.12"
  }
 },
 "nbformat": 4,
 "nbformat_minor": 5
}
